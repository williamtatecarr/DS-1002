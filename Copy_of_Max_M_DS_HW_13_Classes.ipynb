{
  "nbformat": 4,
  "nbformat_minor": 0,
  "metadata": {
    "colab": {
      "provenance": [],
      "include_colab_link": true
    },
    "kernelspec": {
      "name": "python3",
      "display_name": "Python 3"
    },
    "language_info": {
      "name": "python"
    }
  },
  "cells": [
    {
      "cell_type": "markdown",
      "metadata": {
        "id": "view-in-github",
        "colab_type": "text"
      },
      "source": [
        "<a href=\"https://colab.research.google.com/github/williamtatecarr/DS-1002/blob/main/Copy_of_Max_M_DS_HW_13_Classes.ipynb\" target=\"_parent\"><img src=\"https://colab.research.google.com/assets/colab-badge.svg\" alt=\"Open In Colab\"/></a>"
      ]
    },
    {
      "cell_type": "markdown",
      "source": [
        "## Assignment:  Classes\n",
        "### Due Sunday 28 April at 10pm"
      ],
      "metadata": {
        "id": "5Vy93BSp9Tum"
      }
    },
    {
      "cell_type": "markdown",
      "source": [
        "1.  Define a class called `Person` that has attributes `lastName`, `firstName`, `mother`, and `father`.  Both `mother` and `father` should have default value `unknown`.\n",
        "\n",
        "  Include a `__str__()` function that returns a string of the form '`firstName` `lastName`'.\n",
        "\n",
        "  Include a `__repr__()` function that returns a string that can be evaluated to recreate the `Person` object.\n",
        "\n"
      ],
      "metadata": {
        "id": "vcj5XQAI9Wsb"
      }
    },
    {
      "cell_type": "code",
      "source": [
        "class Person:\n",
        "    def __init__(self, lastName, firstName, mother='unknown', father='unknown'):\n",
        "        self.lastName = lastName\n",
        "        self.firstName = firstName\n",
        "        self.mother = mother\n",
        "        self.father = father\n",
        "\n",
        "    def __str__(self):\n",
        "        return f'{self.firstName} {self.lastName}'\n",
        "\n",
        "    def __repr__(self):\n",
        "        return f\"Person('{self.lastName}', '{self.firstName}', '{self.mother}', '{self.father}')\"\n",
        "\n",
        "# Example usage:\n",
        "person1 = Person('Doe', 'John')\n",
        "print(person1)  # Output: John Doe\n",
        "print(repr(person1))  # Output: Person('Doe', 'John', 'unknown', 'unknown')\n"
      ],
      "metadata": {
        "id": "mjHDwHv3EpVe",
        "outputId": "5158d264-b94c-44c5-fb60-aa6c24d896cb",
        "colab": {
          "base_uri": "https://localhost:8080/"
        }
      },
      "execution_count": null,
      "outputs": [
        {
          "output_type": "stream",
          "name": "stdout",
          "text": [
            "John Doe\n",
            "Person('Doe', 'John', 'unknown', 'unknown')\n"
          ]
        }
      ]
    },
    {
      "cell_type": "markdown",
      "source": [
        "Create a person (i.e., a `Person` object) called `p` with unknown parents.  \n",
        "\n",
        "---\n",
        "\n",
        "(You will need to give your person a first and last name.) Check the type of `p`.  Include all inputs and outputs."
      ],
      "metadata": {
        "id": "-ppMsEIVHINl"
      }
    },
    {
      "cell_type": "code",
      "source": [
        "p = Person('Smith', 'Alice')\n",
        "print(type(p))"
      ],
      "metadata": {
        "id": "5bwid_6gHIBH",
        "outputId": "bcaa4519-4aa9-4ea3-b05c-8265ebe02bb5",
        "colab": {
          "base_uri": "https://localhost:8080/"
        }
      },
      "execution_count": null,
      "outputs": [
        {
          "output_type": "stream",
          "name": "stdout",
          "text": [
            "<class '__main__.Person'>\n"
          ]
        }
      ]
    },
    {
      "cell_type": "markdown",
      "source": [
        "*Verify* that your `__str__` and `__repr__` functions are doing what they are supposed to do.  Include all inputs and outputs."
      ],
      "metadata": {
        "id": "Z6zlUC3xRtal"
      }
    },
    {
      "cell_type": "code",
      "source": [
        "class Person:\n",
        "    def __init__(self, lastName, firstName, mother='unknown', father='unknown'):\n",
        "        self.lastName = lastName\n",
        "        self.firstName = firstName\n",
        "        self.mother = mother\n",
        "        self.father = father\n",
        "\n",
        "    def __str__(self):\n",
        "        return f'{self.firstName} {self.lastName}'\n",
        "\n",
        "    def __repr__(self):\n",
        "        return f\"Person('{self.lastName}', '{self.firstName}', '{self.mother}', '{self.father}')\"\n",
        "\n",
        "# Create a person object\n",
        "p = Person('Smith', 'Alice')\n",
        "\n",
        "# Verify __str__() function\n",
        "print(str(p))  # Output: Alice Smith\n",
        "\n",
        "# Verify __repr__() function\n",
        "print(repr(p))  # Output: Person('Smith', 'Alice', 'unknown', 'unknown')\n"
      ],
      "metadata": {
        "id": "jZO0dBQYRs-K",
        "outputId": "3d067836-4729-4460-e685-2e9f6e6ddfe3",
        "colab": {
          "base_uri": "https://localhost:8080/"
        }
      },
      "execution_count": null,
      "outputs": [
        {
          "output_type": "stream",
          "name": "stdout",
          "text": [
            "Alice Smith\n",
            "Person('Smith', 'Alice', 'unknown', 'unknown')\n"
          ]
        }
      ]
    },
    {
      "cell_type": "markdown",
      "source": [
        "Suppose the mother of `p` has been found and is named Taylor Swift.  Create a\n",
        "\n",
        "*   List item\n",
        "*   List item\n",
        "\n",
        "new person named Taylor Swift, and make her the mother of `p`:\n",
        "\n",
        "```\n",
        "> p.mother\n",
        "'Taylor Swift'\n",
        "```"
      ],
      "metadata": {
        "id": "1mOAThQiHzoQ"
      }
    },
    {
      "cell_type": "code",
      "source": [
        "# Create a new person named Taylor Swift\n",
        "taylor_swift = Person('Swift', 'Taylor')\n",
        "\n",
        "# Assign Taylor Swift as the mother of p\n",
        "p.mother = taylor_swift\n",
        "\n",
        "# Verify the mother of p\n",
        "print(p.mother)  # Output: Taylor Swift\n"
      ],
      "metadata": {
        "id": "NYbDOorpHymz",
        "outputId": "f3474958-fa60-4473-80fb-cd7e3fb2cbb9",
        "colab": {
          "base_uri": "https://localhost:8080/"
        }
      },
      "execution_count": null,
      "outputs": [
        {
          "output_type": "stream",
          "name": "stdout",
          "text": [
            "Taylor Swift\n"
          ]
        }
      ]
    },
    {
      "cell_type": "markdown",
      "source": [
        "2.  Add some methods to your class.  Start by copying the `class` definition you already wrote.  Then, inside the `class` definition:\n",
        "\n",
        "  (a) Write a method called `unknownParent()` which returns `True` if any parent is 'unknown' and `False` otherwise.\n",
        "\n",
        "  (b) Write a method called `maternalGrandmother()` which returns the mother's mother.  If the mother is unknown, it should return 'unknown'.\n",
        "\n"
      ],
      "metadata": {
        "id": "1g1pcrmFHzGh"
      }
    },
    {
      "cell_type": "code",
      "source": [
        "class Person:\n",
        "    def __init__(self, lastName, firstName, mother='unknown', father='unknown'):\n",
        "        self.lastName = lastName\n",
        "        self.firstName = firstName\n",
        "        self.mother = mother\n",
        "        self.father = father\n",
        "\n",
        "    def __str__(self):\n",
        "        return f'{self.firstName} {self.lastName}'\n",
        "\n",
        "    def __repr__(self):\n",
        "        return f\"Person('{self.lastName}', '{self.firstName}', '{self.mother}', '{self.father}')\"\n",
        "\n",
        "    def unknownParent(self):\n",
        "        return self.mother == 'unknown' or self.father == 'unknown'\n",
        "\n",
        "    def maternalGrandmother(self):\n",
        "        if self.mother == 'unknown':\n",
        "            return 'unknown'\n",
        "        elif self.mother.mother == 'unknown':\n",
        "            return 'unknown'\n",
        "        else:\n",
        "            return self.mother.mother\n",
        "\n",
        "# Example usage:\n",
        "p = Person('Smith', 'Alice')\n",
        "print(p.unknownParent())  # Output: True\n",
        "print(p.maternalGrandmother())  # Output: unknown"
      ],
      "metadata": {
        "id": "7mIxJGwwKTpv",
        "outputId": "16dbf07a-65fc-4a6a-bef0-cd6895004d7e",
        "colab": {
          "base_uri": "https://localhost:8080/"
        }
      },
      "execution_count": null,
      "outputs": [
        {
          "output_type": "stream",
          "name": "stdout",
          "text": [
            "True\n",
            "unknown\n"
          ]
        }
      ]
    },
    {
      "cell_type": "markdown",
      "source": [
        "Create enough `Person` objects to test whether your methods are working\n",
        "\n",
        "1.   List item\n",
        "2.   List item\n",
        "\n",
        "properly.  Show all your inputs and outputs.  It is up to you to demonstrate that you have thoroughly tested the code.  You may use additional code and/or text chunks if it helps."
      ],
      "metadata": {
        "id": "l9-4gxd8FxAQ"
      }
    },
    {
      "cell_type": "code",
      "source": [
        "# Create Person objects\n",
        "p1 = Person('Smith', 'Alice')\n",
        "p2 = Person('Swift', 'Taylor')\n",
        "p3 = Person('Gomez', 'Selena', mother=p2)\n",
        "p4 = Person('Doe', 'John', father=p2)\n",
        "\n",
        "# Test unknownParent() method\n",
        "print(p1.unknownParent())  # Output: True (both parents are unknown)\n",
        "print(p2.unknownParent())  # Output: True (both parents are unknown)\n",
        "print(p3.unknownParent())  # Output: False (only father is unknown)\n",
        "print(p4.unknownParent())  # Output: False (only mother is unknown)\n",
        "\n",
        "# Test maternalGrandmother() method\n",
        "print(p1.maternalGrandmother())  # Output: unknown (mother is unknown)\n",
        "print(p2.maternalGrandmother())  # Output: unknown (mother is unknown)\n",
        "print(p3.maternalGrandmother())  # Output: unknown (mother's mother is unknown)\n",
        "print(p4.maternalGrandmother())  # Output: unknown (mother's mother is unknown)\n"
      ],
      "metadata": {
        "id": "gX1qpcKzFwoZ"
      },
      "execution_count": null,
      "outputs": []
    }
  ]
}