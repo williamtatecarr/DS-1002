{
  "nbformat": 4,
  "nbformat_minor": 0,
  "metadata": {
    "colab": {
      "provenance": [],
      "authorship_tag": "ABX9TyPMhAEKJX8tYdsd6oiA6SMk",
      "include_colab_link": true
    },
    "kernelspec": {
      "name": "python3",
      "display_name": "Python 3"
    },
    "language_info": {
      "name": "python"
    }
  },
  "cells": [
    {
      "cell_type": "markdown",
      "metadata": {
        "id": "view-in-github",
        "colab_type": "text"
      },
      "source": [
        "<a href=\"https://colab.research.google.com/github/williamtatecarr/DS-1002/blob/main/Untitled1.ipynb\" target=\"_parent\"><img src=\"https://colab.research.google.com/assets/colab-badge.svg\" alt=\"Open In Colab\"/></a>"
      ]
    },
    {
      "cell_type": "code",
      "execution_count": 2,
      "metadata": {
        "colab": {
          "base_uri": "https://localhost:8080/"
        },
        "id": "9yqKKQn9kiqT",
        "outputId": "c4f89700-df23-4a9b-a00f-e8b65e520a8a"
      },
      "outputs": [
        {
          "output_type": "stream",
          "name": "stdout",
          "text": [
            "The computer has selected random integer between 0 and 100. You are to guess the it.\n",
            "What is your first guess?20\n",
            "Too low. What is your next guess?40\n",
            "Too low. What is your next guess?50\n",
            "Too low. What is your next guess?60\n",
            "Too low. What is your next guess?70\n",
            "Too low. What is your next guess?90\n",
            "You got it!\n"
          ]
        }
      ],
      "source": [
        "print(\"The computer has selected random integer between 0 and 100. You are to guess the it.\")\n",
        "\n",
        "import random\n",
        "rand = random.randint(0,100)\n",
        "\n",
        "\n",
        "guess = input(\"What is your first guess?\")\n",
        "\n",
        "if guess.isdigit():\n",
        "  guessint = int(guess)\n",
        "else:\n",
        "  guess = input(\"That was not an integer between 0 and 100. Guess again in the given parameters.\")\n",
        "\n",
        "while(guessint!=rand):\n",
        "  if guessint > rand:\n",
        "    guessint = int(input(\"Too high. What is your next guess?\"))\n",
        "  else:\n",
        "    guessint = int(input(\"Too low. What is your next guess?\"))\n",
        "\n",
        "print(\"You got it!\")\n",
        "\n"
      ]
    }
  ]
}