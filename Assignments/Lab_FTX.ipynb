{
  "nbformat": 4,
  "nbformat_minor": 0,
  "metadata": {
    "colab": {
      "provenance": [],
      "include_colab_link": true
    },
    "kernelspec": {
      "name": "python3",
      "display_name": "Python 3"
    },
    "language_info": {
      "name": "python"
    }
  },
  "cells": [
    {
      "cell_type": "markdown",
      "metadata": {
        "id": "view-in-github",
        "colab_type": "text"
      },
      "source": [
        "<a href=\"https://colab.research.google.com/github/williamtatecarr/DS-1002/blob/main/Assignments/Lab_FTX.ipynb\" target=\"_parent\"><img src=\"https://colab.research.google.com/assets/colab-badge.svg\" alt=\"Open In Colab\"/></a>"
      ]
    },
    {
      "cell_type": "markdown",
      "source": [
        "# DS1002 Lab 1:  FTX\n",
        "\n",
        "### Due Monday 1 April at noon\n",
        "\n",
        "In this lab you will work with a dataset, writing python to generate the deliverables specified in the cells below.\n",
        "\n",
        "> **FTX** was a cryptocurrency exchange founded by Sam Bankman-Fried that saw both a spectacular rise and collapse between 2021 and 2022. At one point it had a valuation of $32B. In November Bankman-Fried was found guilty on seven counts of fraud and conspiracy.  His sentencing hearing is today.\n",
        "\n",
        "The dataset for this assignment covers that rise and fall from the viewpoint of daily stock closing prices for FTX (ticker symbol `FTT`).\n",
        "\n",
        "Answer the questions below with the appropriate Python code.\n",
        "\n",
        "**Put code and outputs in this notebook.**\n"
      ],
      "metadata": {
        "id": "2yEePrJ-1G1Z"
      }
    },
    {
      "cell_type": "markdown",
      "source": [
        "## Group Submissions\n",
        "\n",
        "As usual you may work in a group to complete this lab, with no more than 3 members in a group. Group members should be indicated in the cell below -- list both names and UVA computing IDs.\n",
        "\n",
        "Each student should then submit **the same URL** for the lab in Canvas. (If a group has Member1, Member2, and Member3, only one member needs to save the completed work back to GitHub and all members should submit that URL for grading.)"
      ],
      "metadata": {
        "id": "acXFkytd2PWS"
      }
    },
    {
      "cell_type": "code",
      "source": [
        "# List group members (if applicable). Identify names and computing IDs\n",
        "#\n",
        "# Name                    Computing ID"
      ],
      "metadata": {
        "id": "4N8_o3tG232h"
      },
      "execution_count": null,
      "outputs": []
    },
    {
      "cell_type": "markdown",
      "source": [
        "## 1. Load Libraries & Data\n",
        "\n",
        "https://s3.amazonaws.com/ds1002-resources/data/ftx-2021-01-01--2023-12-31.csv\n",
        "\n",
        "Import any necessary libraries and load the remote CSV file below into a DataFrame. **Resolve any import issues you need to.**"
      ],
      "metadata": {
        "id": "w0VxTDNf1k2O"
      }
    },
    {
      "cell_type": "code",
      "execution_count": 31,
      "metadata": {
        "id": "I0B9chFD1GR0"
      },
      "outputs": [],
      "source": [
        "import pandas as pd\n",
        "import numpy as np\n",
        "import matplotlib.pyplot as plt\n",
        "url = \"https://s3.amazonaws.com/ds1002-resources/data/ftx-2021-01-01--2023-12-31.csv\"\n",
        "df = pd.read_csv(url,delimiter=';')"
      ]
    },
    {
      "cell_type": "markdown",
      "source": [
        "## 2. Get Summary Data"
      ],
      "metadata": {
        "id": "H389W9dkobGI"
      }
    },
    {
      "cell_type": "markdown",
      "source": [
        "In code, display how many rows and columns are in the raw dataset."
      ],
      "metadata": {
        "id": "KA0wbjmE-4Q9"
      }
    },
    {
      "cell_type": "code",
      "source": [
        "df.shape\n",
        "#originally 741, 11"
      ],
      "metadata": {
        "id": "XhULtu7qox-p"
      },
      "execution_count": null,
      "outputs": []
    },
    {
      "cell_type": "markdown",
      "source": [
        "## 3. Clean and Organize the Data\n",
        "\n",
        "Check for data quality.\n",
        "\n",
        "- Resolve any empty values or duplicate rows.\n",
        "- Order the data properly if necessary.\n",
        "- Drop the following columns and save the dataframe: `timeOpen`, `timeClose`, `timeHigh`, `timeLow`, `marketCap`\n",
        "\n"
      ],
      "metadata": {
        "id": "abshX7QeooAs"
      }
    },
    {
      "cell_type": "code",
      "source": [
        "#dropping the columns and saving the dataframe\n",
        "df.drop(['timeOpen','timeClose','timeHigh','timeLow','marketCap'],axis=1,inplace = True)\n",
        "#only works the first time, else will display error"
      ],
      "metadata": {
        "id": "Aq3J7yD82uwW"
      },
      "execution_count": null,
      "outputs": []
    },
    {
      "cell_type": "code",
      "source": [
        "#dropping duplicated rows:\n",
        "df.duplicated().sum()\n",
        "df=df.drop_duplicates()"
      ],
      "metadata": {
        "id": "sU4hYbzaZ0Vh"
      },
      "execution_count": 167,
      "outputs": []
    },
    {
      "cell_type": "code",
      "source": [
        "#checking for empty values\n",
        "df.isna().sum()\n",
        "#none found"
      ],
      "metadata": {
        "id": "fngSFWC8Z5V2"
      },
      "execution_count": 179,
      "outputs": []
    },
    {
      "cell_type": "code",
      "source": [
        "#already sorted chronologically but descending, so I can create new df flipping:\n",
        "sdf=df.sort_values(by='timestamp', ascending=True).reset_index(drop=True)"
      ],
      "metadata": {
        "id": "I2-8hYQxdBil"
      },
      "execution_count": null,
      "outputs": []
    },
    {
      "cell_type": "markdown",
      "source": [
        "Now display the first 10 rows of the cleaned dataset."
      ],
      "metadata": {
        "id": "Ccwu8bUx_Azj"
      }
    },
    {
      "cell_type": "code",
      "source": [
        "sdf.iloc[0:10]"
      ],
      "metadata": {
        "id": "1iVIskCs_Ewe",
        "outputId": "35f78f09-8a3f-4dfa-883b-581b9bee08d9",
        "colab": {
          "base_uri": "https://localhost:8080/",
          "height": 363
        }
      },
      "execution_count": 234,
      "outputs": [
        {
          "output_type": "execute_result",
          "data": {
            "text/plain": [
              "       open       high       low     close        volume  \\\n",
              "0  6.201133   7.007523  6.171834  6.923968  3.104665e+07   \n",
              "1  6.948680   7.632146  6.358218  7.514079  4.052611e+07   \n",
              "2  7.528216   8.714947  7.081120  8.664688  4.947928e+07   \n",
              "3  8.671285   9.390797  8.425946  9.390797  3.140463e+07   \n",
              "4  9.386493  10.004872  9.215244  9.562131  4.630334e+07   \n",
              "5  9.569239   9.726429  8.452265  9.380988  4.228627e+07   \n",
              "6  9.370450   9.636120  8.728044  9.570511  2.849895e+07   \n",
              "7  9.571917   9.944797  8.657147  9.308809  3.101239e+07   \n",
              "8  9.298315   9.298315  7.126050  8.610997  1.013024e+08   \n",
              "9  8.615143   9.097479  8.040916  8.381133  2.674536e+07   \n",
              "\n",
              "                  timestamp  close_change  rate_of_change  \n",
              "0  2021-01-03T23:59:59.999Z           NaN             NaN  \n",
              "1  2021-01-04T23:59:59.999Z      0.590111             NaN  \n",
              "2  2021-01-05T23:59:59.999Z      1.150608        0.949817  \n",
              "3  2021-01-06T23:59:59.999Z      0.726110       -0.368934  \n",
              "4  2021-01-07T23:59:59.999Z      0.171334       -0.764039  \n",
              "5  2021-01-08T23:59:59.999Z     -0.181143       -2.057251  \n",
              "6  2021-01-09T23:59:59.999Z      0.189522       -2.046260  \n",
              "7  2021-01-10T23:59:59.999Z     -0.261701       -2.380847  \n",
              "8  2021-01-11T23:59:59.999Z     -0.697813        1.666448  \n",
              "9  2021-01-12T23:59:59.999Z     -0.229863       -0.670594  "
            ],
            "text/html": [
              "\n",
              "  <div id=\"df-cfdf37e9-30cb-434f-af9e-3878fa551aa5\" class=\"colab-df-container\">\n",
              "    <div>\n",
              "<style scoped>\n",
              "    .dataframe tbody tr th:only-of-type {\n",
              "        vertical-align: middle;\n",
              "    }\n",
              "\n",
              "    .dataframe tbody tr th {\n",
              "        vertical-align: top;\n",
              "    }\n",
              "\n",
              "    .dataframe thead th {\n",
              "        text-align: right;\n",
              "    }\n",
              "</style>\n",
              "<table border=\"1\" class=\"dataframe\">\n",
              "  <thead>\n",
              "    <tr style=\"text-align: right;\">\n",
              "      <th></th>\n",
              "      <th>open</th>\n",
              "      <th>high</th>\n",
              "      <th>low</th>\n",
              "      <th>close</th>\n",
              "      <th>volume</th>\n",
              "      <th>timestamp</th>\n",
              "      <th>close_change</th>\n",
              "      <th>rate_of_change</th>\n",
              "    </tr>\n",
              "  </thead>\n",
              "  <tbody>\n",
              "    <tr>\n",
              "      <th>0</th>\n",
              "      <td>6.201133</td>\n",
              "      <td>7.007523</td>\n",
              "      <td>6.171834</td>\n",
              "      <td>6.923968</td>\n",
              "      <td>3.104665e+07</td>\n",
              "      <td>2021-01-03T23:59:59.999Z</td>\n",
              "      <td>NaN</td>\n",
              "      <td>NaN</td>\n",
              "    </tr>\n",
              "    <tr>\n",
              "      <th>1</th>\n",
              "      <td>6.948680</td>\n",
              "      <td>7.632146</td>\n",
              "      <td>6.358218</td>\n",
              "      <td>7.514079</td>\n",
              "      <td>4.052611e+07</td>\n",
              "      <td>2021-01-04T23:59:59.999Z</td>\n",
              "      <td>0.590111</td>\n",
              "      <td>NaN</td>\n",
              "    </tr>\n",
              "    <tr>\n",
              "      <th>2</th>\n",
              "      <td>7.528216</td>\n",
              "      <td>8.714947</td>\n",
              "      <td>7.081120</td>\n",
              "      <td>8.664688</td>\n",
              "      <td>4.947928e+07</td>\n",
              "      <td>2021-01-05T23:59:59.999Z</td>\n",
              "      <td>1.150608</td>\n",
              "      <td>0.949817</td>\n",
              "    </tr>\n",
              "    <tr>\n",
              "      <th>3</th>\n",
              "      <td>8.671285</td>\n",
              "      <td>9.390797</td>\n",
              "      <td>8.425946</td>\n",
              "      <td>9.390797</td>\n",
              "      <td>3.140463e+07</td>\n",
              "      <td>2021-01-06T23:59:59.999Z</td>\n",
              "      <td>0.726110</td>\n",
              "      <td>-0.368934</td>\n",
              "    </tr>\n",
              "    <tr>\n",
              "      <th>4</th>\n",
              "      <td>9.386493</td>\n",
              "      <td>10.004872</td>\n",
              "      <td>9.215244</td>\n",
              "      <td>9.562131</td>\n",
              "      <td>4.630334e+07</td>\n",
              "      <td>2021-01-07T23:59:59.999Z</td>\n",
              "      <td>0.171334</td>\n",
              "      <td>-0.764039</td>\n",
              "    </tr>\n",
              "    <tr>\n",
              "      <th>5</th>\n",
              "      <td>9.569239</td>\n",
              "      <td>9.726429</td>\n",
              "      <td>8.452265</td>\n",
              "      <td>9.380988</td>\n",
              "      <td>4.228627e+07</td>\n",
              "      <td>2021-01-08T23:59:59.999Z</td>\n",
              "      <td>-0.181143</td>\n",
              "      <td>-2.057251</td>\n",
              "    </tr>\n",
              "    <tr>\n",
              "      <th>6</th>\n",
              "      <td>9.370450</td>\n",
              "      <td>9.636120</td>\n",
              "      <td>8.728044</td>\n",
              "      <td>9.570511</td>\n",
              "      <td>2.849895e+07</td>\n",
              "      <td>2021-01-09T23:59:59.999Z</td>\n",
              "      <td>0.189522</td>\n",
              "      <td>-2.046260</td>\n",
              "    </tr>\n",
              "    <tr>\n",
              "      <th>7</th>\n",
              "      <td>9.571917</td>\n",
              "      <td>9.944797</td>\n",
              "      <td>8.657147</td>\n",
              "      <td>9.308809</td>\n",
              "      <td>3.101239e+07</td>\n",
              "      <td>2021-01-10T23:59:59.999Z</td>\n",
              "      <td>-0.261701</td>\n",
              "      <td>-2.380847</td>\n",
              "    </tr>\n",
              "    <tr>\n",
              "      <th>8</th>\n",
              "      <td>9.298315</td>\n",
              "      <td>9.298315</td>\n",
              "      <td>7.126050</td>\n",
              "      <td>8.610997</td>\n",
              "      <td>1.013024e+08</td>\n",
              "      <td>2021-01-11T23:59:59.999Z</td>\n",
              "      <td>-0.697813</td>\n",
              "      <td>1.666448</td>\n",
              "    </tr>\n",
              "    <tr>\n",
              "      <th>9</th>\n",
              "      <td>8.615143</td>\n",
              "      <td>9.097479</td>\n",
              "      <td>8.040916</td>\n",
              "      <td>8.381133</td>\n",
              "      <td>2.674536e+07</td>\n",
              "      <td>2021-01-12T23:59:59.999Z</td>\n",
              "      <td>-0.229863</td>\n",
              "      <td>-0.670594</td>\n",
              "    </tr>\n",
              "  </tbody>\n",
              "</table>\n",
              "</div>\n",
              "    <div class=\"colab-df-buttons\">\n",
              "\n",
              "  <div class=\"colab-df-container\">\n",
              "    <button class=\"colab-df-convert\" onclick=\"convertToInteractive('df-cfdf37e9-30cb-434f-af9e-3878fa551aa5')\"\n",
              "            title=\"Convert this dataframe to an interactive table.\"\n",
              "            style=\"display:none;\">\n",
              "\n",
              "  <svg xmlns=\"http://www.w3.org/2000/svg\" height=\"24px\" viewBox=\"0 -960 960 960\">\n",
              "    <path d=\"M120-120v-720h720v720H120Zm60-500h600v-160H180v160Zm220 220h160v-160H400v160Zm0 220h160v-160H400v160ZM180-400h160v-160H180v160Zm440 0h160v-160H620v160ZM180-180h160v-160H180v160Zm440 0h160v-160H620v160Z\"/>\n",
              "  </svg>\n",
              "    </button>\n",
              "\n",
              "  <style>\n",
              "    .colab-df-container {\n",
              "      display:flex;\n",
              "      gap: 12px;\n",
              "    }\n",
              "\n",
              "    .colab-df-convert {\n",
              "      background-color: #E8F0FE;\n",
              "      border: none;\n",
              "      border-radius: 50%;\n",
              "      cursor: pointer;\n",
              "      display: none;\n",
              "      fill: #1967D2;\n",
              "      height: 32px;\n",
              "      padding: 0 0 0 0;\n",
              "      width: 32px;\n",
              "    }\n",
              "\n",
              "    .colab-df-convert:hover {\n",
              "      background-color: #E2EBFA;\n",
              "      box-shadow: 0px 1px 2px rgba(60, 64, 67, 0.3), 0px 1px 3px 1px rgba(60, 64, 67, 0.15);\n",
              "      fill: #174EA6;\n",
              "    }\n",
              "\n",
              "    .colab-df-buttons div {\n",
              "      margin-bottom: 4px;\n",
              "    }\n",
              "\n",
              "    [theme=dark] .colab-df-convert {\n",
              "      background-color: #3B4455;\n",
              "      fill: #D2E3FC;\n",
              "    }\n",
              "\n",
              "    [theme=dark] .colab-df-convert:hover {\n",
              "      background-color: #434B5C;\n",
              "      box-shadow: 0px 1px 3px 1px rgba(0, 0, 0, 0.15);\n",
              "      filter: drop-shadow(0px 1px 2px rgba(0, 0, 0, 0.3));\n",
              "      fill: #FFFFFF;\n",
              "    }\n",
              "  </style>\n",
              "\n",
              "    <script>\n",
              "      const buttonEl =\n",
              "        document.querySelector('#df-cfdf37e9-30cb-434f-af9e-3878fa551aa5 button.colab-df-convert');\n",
              "      buttonEl.style.display =\n",
              "        google.colab.kernel.accessAllowed ? 'block' : 'none';\n",
              "\n",
              "      async function convertToInteractive(key) {\n",
              "        const element = document.querySelector('#df-cfdf37e9-30cb-434f-af9e-3878fa551aa5');\n",
              "        const dataTable =\n",
              "          await google.colab.kernel.invokeFunction('convertToInteractive',\n",
              "                                                    [key], {});\n",
              "        if (!dataTable) return;\n",
              "\n",
              "        const docLinkHtml = 'Like what you see? Visit the ' +\n",
              "          '<a target=\"_blank\" href=https://colab.research.google.com/notebooks/data_table.ipynb>data table notebook</a>'\n",
              "          + ' to learn more about interactive tables.';\n",
              "        element.innerHTML = '';\n",
              "        dataTable['output_type'] = 'display_data';\n",
              "        await google.colab.output.renderOutput(dataTable, element);\n",
              "        const docLink = document.createElement('div');\n",
              "        docLink.innerHTML = docLinkHtml;\n",
              "        element.appendChild(docLink);\n",
              "      }\n",
              "    </script>\n",
              "  </div>\n",
              "\n",
              "\n",
              "<div id=\"df-1671d290-f83d-4b63-ad36-a3dd8f1fc065\">\n",
              "  <button class=\"colab-df-quickchart\" onclick=\"quickchart('df-1671d290-f83d-4b63-ad36-a3dd8f1fc065')\"\n",
              "            title=\"Suggest charts\"\n",
              "            style=\"display:none;\">\n",
              "\n",
              "<svg xmlns=\"http://www.w3.org/2000/svg\" height=\"24px\"viewBox=\"0 0 24 24\"\n",
              "     width=\"24px\">\n",
              "    <g>\n",
              "        <path d=\"M19 3H5c-1.1 0-2 .9-2 2v14c0 1.1.9 2 2 2h14c1.1 0 2-.9 2-2V5c0-1.1-.9-2-2-2zM9 17H7v-7h2v7zm4 0h-2V7h2v10zm4 0h-2v-4h2v4z\"/>\n",
              "    </g>\n",
              "</svg>\n",
              "  </button>\n",
              "\n",
              "<style>\n",
              "  .colab-df-quickchart {\n",
              "      --bg-color: #E8F0FE;\n",
              "      --fill-color: #1967D2;\n",
              "      --hover-bg-color: #E2EBFA;\n",
              "      --hover-fill-color: #174EA6;\n",
              "      --disabled-fill-color: #AAA;\n",
              "      --disabled-bg-color: #DDD;\n",
              "  }\n",
              "\n",
              "  [theme=dark] .colab-df-quickchart {\n",
              "      --bg-color: #3B4455;\n",
              "      --fill-color: #D2E3FC;\n",
              "      --hover-bg-color: #434B5C;\n",
              "      --hover-fill-color: #FFFFFF;\n",
              "      --disabled-bg-color: #3B4455;\n",
              "      --disabled-fill-color: #666;\n",
              "  }\n",
              "\n",
              "  .colab-df-quickchart {\n",
              "    background-color: var(--bg-color);\n",
              "    border: none;\n",
              "    border-radius: 50%;\n",
              "    cursor: pointer;\n",
              "    display: none;\n",
              "    fill: var(--fill-color);\n",
              "    height: 32px;\n",
              "    padding: 0;\n",
              "    width: 32px;\n",
              "  }\n",
              "\n",
              "  .colab-df-quickchart:hover {\n",
              "    background-color: var(--hover-bg-color);\n",
              "    box-shadow: 0 1px 2px rgba(60, 64, 67, 0.3), 0 1px 3px 1px rgba(60, 64, 67, 0.15);\n",
              "    fill: var(--button-hover-fill-color);\n",
              "  }\n",
              "\n",
              "  .colab-df-quickchart-complete:disabled,\n",
              "  .colab-df-quickchart-complete:disabled:hover {\n",
              "    background-color: var(--disabled-bg-color);\n",
              "    fill: var(--disabled-fill-color);\n",
              "    box-shadow: none;\n",
              "  }\n",
              "\n",
              "  .colab-df-spinner {\n",
              "    border: 2px solid var(--fill-color);\n",
              "    border-color: transparent;\n",
              "    border-bottom-color: var(--fill-color);\n",
              "    animation:\n",
              "      spin 1s steps(1) infinite;\n",
              "  }\n",
              "\n",
              "  @keyframes spin {\n",
              "    0% {\n",
              "      border-color: transparent;\n",
              "      border-bottom-color: var(--fill-color);\n",
              "      border-left-color: var(--fill-color);\n",
              "    }\n",
              "    20% {\n",
              "      border-color: transparent;\n",
              "      border-left-color: var(--fill-color);\n",
              "      border-top-color: var(--fill-color);\n",
              "    }\n",
              "    30% {\n",
              "      border-color: transparent;\n",
              "      border-left-color: var(--fill-color);\n",
              "      border-top-color: var(--fill-color);\n",
              "      border-right-color: var(--fill-color);\n",
              "    }\n",
              "    40% {\n",
              "      border-color: transparent;\n",
              "      border-right-color: var(--fill-color);\n",
              "      border-top-color: var(--fill-color);\n",
              "    }\n",
              "    60% {\n",
              "      border-color: transparent;\n",
              "      border-right-color: var(--fill-color);\n",
              "    }\n",
              "    80% {\n",
              "      border-color: transparent;\n",
              "      border-right-color: var(--fill-color);\n",
              "      border-bottom-color: var(--fill-color);\n",
              "    }\n",
              "    90% {\n",
              "      border-color: transparent;\n",
              "      border-bottom-color: var(--fill-color);\n",
              "    }\n",
              "  }\n",
              "</style>\n",
              "\n",
              "  <script>\n",
              "    async function quickchart(key) {\n",
              "      const quickchartButtonEl =\n",
              "        document.querySelector('#' + key + ' button');\n",
              "      quickchartButtonEl.disabled = true;  // To prevent multiple clicks.\n",
              "      quickchartButtonEl.classList.add('colab-df-spinner');\n",
              "      try {\n",
              "        const charts = await google.colab.kernel.invokeFunction(\n",
              "            'suggestCharts', [key], {});\n",
              "      } catch (error) {\n",
              "        console.error('Error during call to suggestCharts:', error);\n",
              "      }\n",
              "      quickchartButtonEl.classList.remove('colab-df-spinner');\n",
              "      quickchartButtonEl.classList.add('colab-df-quickchart-complete');\n",
              "    }\n",
              "    (() => {\n",
              "      let quickchartButtonEl =\n",
              "        document.querySelector('#df-1671d290-f83d-4b63-ad36-a3dd8f1fc065 button');\n",
              "      quickchartButtonEl.style.display =\n",
              "        google.colab.kernel.accessAllowed ? 'block' : 'none';\n",
              "    })();\n",
              "  </script>\n",
              "</div>\n",
              "\n",
              "    </div>\n",
              "  </div>\n"
            ],
            "application/vnd.google.colaboratory.intrinsic+json": {
              "type": "dataframe",
              "summary": "{\n  \"name\": \"sdf\",\n  \"rows\": 10,\n  \"fields\": [\n    {\n      \"column\": \"open\",\n      \"properties\": {\n        \"dtype\": \"number\",\n        \"std\": 1.2087135637746607,\n        \"min\": 6.20113267,\n        \"max\": 9.57191738,\n        \"num_unique_values\": 10,\n        \"samples\": [\n          9.2983155,\n          6.94867983,\n          9.56923877\n        ],\n        \"semantic_type\": \"\",\n        \"description\": \"\"\n      }\n    },\n    {\n      \"column\": \"high\",\n      \"properties\": {\n        \"dtype\": \"number\",\n        \"std\": 0.999313995953992,\n        \"min\": 7.00752345,\n        \"max\": 10.00487172,\n        \"num_unique_values\": 10,\n        \"samples\": [\n          9.2983155,\n          7.63214646,\n          9.72642922\n        ],\n        \"semantic_type\": \"\",\n        \"description\": \"\"\n      }\n    },\n    {\n      \"column\": \"low\",\n      \"properties\": {\n        \"dtype\": \"number\",\n        \"std\": 1.062922700997736,\n        \"min\": 6.171834,\n        \"max\": 9.21524402,\n        \"num_unique_values\": 10,\n        \"samples\": [\n          7.12604974,\n          6.35821845,\n          8.45226488\n        ],\n        \"semantic_type\": \"\",\n        \"description\": \"\"\n      }\n    },\n    {\n      \"column\": \"close\",\n      \"properties\": {\n        \"dtype\": \"number\",\n        \"std\": 0.911330033101943,\n        \"min\": 6.92396831,\n        \"max\": 9.57051061,\n        \"num_unique_values\": 10,\n        \"samples\": [\n          8.61099653,\n          7.51407925,\n          9.38098835\n        ],\n        \"semantic_type\": \"\",\n        \"description\": \"\"\n      }\n    },\n    {\n      \"column\": \"volume\",\n      \"properties\": {\n        \"dtype\": \"number\",\n        \"std\": 21995015.113098927,\n        \"min\": 26745357.03,\n        \"max\": 101302369.57,\n        \"num_unique_values\": 10,\n        \"samples\": [\n          101302369.57,\n          40526109.15,\n          42286267.89\n        ],\n        \"semantic_type\": \"\",\n        \"description\": \"\"\n      }\n    },\n    {\n      \"column\": \"timestamp\",\n      \"properties\": {\n        \"dtype\": \"object\",\n        \"num_unique_values\": 10,\n        \"samples\": [\n          \"2021-01-11T23:59:59.999Z\",\n          \"2021-01-04T23:59:59.999Z\",\n          \"2021-01-08T23:59:59.999Z\"\n        ],\n        \"semantic_type\": \"\",\n        \"description\": \"\"\n      }\n    },\n    {\n      \"column\": \"close_change\",\n      \"properties\": {\n        \"dtype\": \"number\",\n        \"std\": 0.5776887574879724,\n        \"min\": -0.6978128100000003,\n        \"max\": 1.1506084800000007,\n        \"num_unique_values\": 9,\n        \"samples\": [\n          -0.6978128100000003,\n          1.1506084800000007,\n          0.1895222599999986\n        ],\n        \"semantic_type\": \"\",\n        \"description\": \"\"\n      }\n    },\n    {\n      \"column\": \"rate_of_change\",\n      \"properties\": {\n        \"dtype\": \"number\",\n        \"std\": 1.4597306213431647,\n        \"min\": -2.3808471363733292,\n        \"max\": 1.666447931261477,\n        \"num_unique_values\": 8,\n        \"samples\": [\n          -0.3689342703262548,\n          -2.3808471363733292,\n          0.94981723267154\n        ],\n        \"semantic_type\": \"\",\n        \"description\": \"\"\n      }\n    }\n  ]\n}"
            }
          },
          "metadata": {},
          "execution_count": 234
        }
      ]
    },
    {
      "cell_type": "markdown",
      "source": [
        "## 4. Calculate Daily Gains/Losses"
      ],
      "metadata": {
        "id": "3-4dd8nsr_zF"
      }
    },
    {
      "cell_type": "markdown",
      "source": [
        "Using Pandas, add a new column named `[\"close_change\"]` to the dataframe that calculates the difference between daily closing prices for FTX. This will result in positive (growth) and negative (loss) values.\n",
        "\n",
        "Note:\n",
        "- Be careful about how you calculate this. Each row should calculate that difference from the row above it, which must be the previous calendar day.\n",
        "- Hint: This is not complicated and does not require a for-loop.  See the Pandas review notebook for reference."
      ],
      "metadata": {
        "id": "HrGLlM83vH0c"
      }
    },
    {
      "cell_type": "code",
      "source": [
        "#adding \"close_change\" column that calculates the difference between daily closing prices for FTX from the row above, which is now previous calendar day after I flipped df into sdf\n",
        "sdf['close_change'] = sdf['close'].diff()\n",
        "#there will be a NaN in row 0 because it has no previous"
      ],
      "metadata": {
        "id": "7P8J0jEtvCiv"
      },
      "execution_count": 186,
      "outputs": []
    },
    {
      "cell_type": "markdown",
      "source": [
        "## 5. Identify Growth Days"
      ],
      "metadata": {
        "id": "KKg8d9RDyeDa"
      }
    },
    {
      "cell_type": "markdown",
      "source": [
        "Based on the daily change in closing prices calculated above, identify the top 10 days of positive growth for FTX.\n",
        "\n",
        "Display your results in a table showing both the rate of change and their dates."
      ],
      "metadata": {
        "id": "5kKBo3_sykGD"
      }
    },
    {
      "cell_type": "code",
      "source": [
        "#identifying top 10 days of + growth, .head() operator shows the 10 best\n",
        "top10pgFTX = sdf.sort_values([\"close_change\"], ascending=False).head(10)"
      ],
      "metadata": {
        "id": "xRlliRMY2_-c"
      },
      "execution_count": 187,
      "outputs": []
    },
    {
      "cell_type": "code",
      "source": [
        "#displaying table with just rate of change and dates\n",
        "top10pgFTX[['timestamp', 'close_change']]"
      ],
      "metadata": {
        "id": "dSLDiynifwyi",
        "outputId": "4fa68893-defc-45df-b0a7-dcbd88b85adb",
        "colab": {
          "base_uri": "https://localhost:8080/",
          "height": 363
        }
      },
      "execution_count": 236,
      "outputs": [
        {
          "output_type": "execute_result",
          "data": {
            "text/plain": [
              "                    timestamp  close_change\n",
              "241  2021-09-01T23:59:59.999Z     16.677156\n",
              "246  2021-09-06T23:59:59.999Z      9.800320\n",
              "47   2021-02-19T23:59:59.999Z      8.335900\n",
              "141  2021-05-24T23:59:59.999Z      6.333923\n",
              "65   2021-03-09T23:59:59.999Z      5.529699\n",
              "218  2021-08-09T23:59:59.999Z      5.325192\n",
              "248  2021-09-08T23:59:59.999Z      5.239728\n",
              "113  2021-04-26T23:59:59.999Z      4.504385\n",
              "122  2021-05-05T23:59:59.999Z      4.488174\n",
              "420  2022-02-28T23:59:59.999Z      4.401841"
            ],
            "text/html": [
              "\n",
              "  <div id=\"df-aedac20c-1d9f-4b6e-b579-91ae42618a68\" class=\"colab-df-container\">\n",
              "    <div>\n",
              "<style scoped>\n",
              "    .dataframe tbody tr th:only-of-type {\n",
              "        vertical-align: middle;\n",
              "    }\n",
              "\n",
              "    .dataframe tbody tr th {\n",
              "        vertical-align: top;\n",
              "    }\n",
              "\n",
              "    .dataframe thead th {\n",
              "        text-align: right;\n",
              "    }\n",
              "</style>\n",
              "<table border=\"1\" class=\"dataframe\">\n",
              "  <thead>\n",
              "    <tr style=\"text-align: right;\">\n",
              "      <th></th>\n",
              "      <th>timestamp</th>\n",
              "      <th>close_change</th>\n",
              "    </tr>\n",
              "  </thead>\n",
              "  <tbody>\n",
              "    <tr>\n",
              "      <th>241</th>\n",
              "      <td>2021-09-01T23:59:59.999Z</td>\n",
              "      <td>16.677156</td>\n",
              "    </tr>\n",
              "    <tr>\n",
              "      <th>246</th>\n",
              "      <td>2021-09-06T23:59:59.999Z</td>\n",
              "      <td>9.800320</td>\n",
              "    </tr>\n",
              "    <tr>\n",
              "      <th>47</th>\n",
              "      <td>2021-02-19T23:59:59.999Z</td>\n",
              "      <td>8.335900</td>\n",
              "    </tr>\n",
              "    <tr>\n",
              "      <th>141</th>\n",
              "      <td>2021-05-24T23:59:59.999Z</td>\n",
              "      <td>6.333923</td>\n",
              "    </tr>\n",
              "    <tr>\n",
              "      <th>65</th>\n",
              "      <td>2021-03-09T23:59:59.999Z</td>\n",
              "      <td>5.529699</td>\n",
              "    </tr>\n",
              "    <tr>\n",
              "      <th>218</th>\n",
              "      <td>2021-08-09T23:59:59.999Z</td>\n",
              "      <td>5.325192</td>\n",
              "    </tr>\n",
              "    <tr>\n",
              "      <th>248</th>\n",
              "      <td>2021-09-08T23:59:59.999Z</td>\n",
              "      <td>5.239728</td>\n",
              "    </tr>\n",
              "    <tr>\n",
              "      <th>113</th>\n",
              "      <td>2021-04-26T23:59:59.999Z</td>\n",
              "      <td>4.504385</td>\n",
              "    </tr>\n",
              "    <tr>\n",
              "      <th>122</th>\n",
              "      <td>2021-05-05T23:59:59.999Z</td>\n",
              "      <td>4.488174</td>\n",
              "    </tr>\n",
              "    <tr>\n",
              "      <th>420</th>\n",
              "      <td>2022-02-28T23:59:59.999Z</td>\n",
              "      <td>4.401841</td>\n",
              "    </tr>\n",
              "  </tbody>\n",
              "</table>\n",
              "</div>\n",
              "    <div class=\"colab-df-buttons\">\n",
              "\n",
              "  <div class=\"colab-df-container\">\n",
              "    <button class=\"colab-df-convert\" onclick=\"convertToInteractive('df-aedac20c-1d9f-4b6e-b579-91ae42618a68')\"\n",
              "            title=\"Convert this dataframe to an interactive table.\"\n",
              "            style=\"display:none;\">\n",
              "\n",
              "  <svg xmlns=\"http://www.w3.org/2000/svg\" height=\"24px\" viewBox=\"0 -960 960 960\">\n",
              "    <path d=\"M120-120v-720h720v720H120Zm60-500h600v-160H180v160Zm220 220h160v-160H400v160Zm0 220h160v-160H400v160ZM180-400h160v-160H180v160Zm440 0h160v-160H620v160ZM180-180h160v-160H180v160Zm440 0h160v-160H620v160Z\"/>\n",
              "  </svg>\n",
              "    </button>\n",
              "\n",
              "  <style>\n",
              "    .colab-df-container {\n",
              "      display:flex;\n",
              "      gap: 12px;\n",
              "    }\n",
              "\n",
              "    .colab-df-convert {\n",
              "      background-color: #E8F0FE;\n",
              "      border: none;\n",
              "      border-radius: 50%;\n",
              "      cursor: pointer;\n",
              "      display: none;\n",
              "      fill: #1967D2;\n",
              "      height: 32px;\n",
              "      padding: 0 0 0 0;\n",
              "      width: 32px;\n",
              "    }\n",
              "\n",
              "    .colab-df-convert:hover {\n",
              "      background-color: #E2EBFA;\n",
              "      box-shadow: 0px 1px 2px rgba(60, 64, 67, 0.3), 0px 1px 3px 1px rgba(60, 64, 67, 0.15);\n",
              "      fill: #174EA6;\n",
              "    }\n",
              "\n",
              "    .colab-df-buttons div {\n",
              "      margin-bottom: 4px;\n",
              "    }\n",
              "\n",
              "    [theme=dark] .colab-df-convert {\n",
              "      background-color: #3B4455;\n",
              "      fill: #D2E3FC;\n",
              "    }\n",
              "\n",
              "    [theme=dark] .colab-df-convert:hover {\n",
              "      background-color: #434B5C;\n",
              "      box-shadow: 0px 1px 3px 1px rgba(0, 0, 0, 0.15);\n",
              "      filter: drop-shadow(0px 1px 2px rgba(0, 0, 0, 0.3));\n",
              "      fill: #FFFFFF;\n",
              "    }\n",
              "  </style>\n",
              "\n",
              "    <script>\n",
              "      const buttonEl =\n",
              "        document.querySelector('#df-aedac20c-1d9f-4b6e-b579-91ae42618a68 button.colab-df-convert');\n",
              "      buttonEl.style.display =\n",
              "        google.colab.kernel.accessAllowed ? 'block' : 'none';\n",
              "\n",
              "      async function convertToInteractive(key) {\n",
              "        const element = document.querySelector('#df-aedac20c-1d9f-4b6e-b579-91ae42618a68');\n",
              "        const dataTable =\n",
              "          await google.colab.kernel.invokeFunction('convertToInteractive',\n",
              "                                                    [key], {});\n",
              "        if (!dataTable) return;\n",
              "\n",
              "        const docLinkHtml = 'Like what you see? Visit the ' +\n",
              "          '<a target=\"_blank\" href=https://colab.research.google.com/notebooks/data_table.ipynb>data table notebook</a>'\n",
              "          + ' to learn more about interactive tables.';\n",
              "        element.innerHTML = '';\n",
              "        dataTable['output_type'] = 'display_data';\n",
              "        await google.colab.output.renderOutput(dataTable, element);\n",
              "        const docLink = document.createElement('div');\n",
              "        docLink.innerHTML = docLinkHtml;\n",
              "        element.appendChild(docLink);\n",
              "      }\n",
              "    </script>\n",
              "  </div>\n",
              "\n",
              "\n",
              "<div id=\"df-09577888-290f-4e2d-a53f-e935145cb9ad\">\n",
              "  <button class=\"colab-df-quickchart\" onclick=\"quickchart('df-09577888-290f-4e2d-a53f-e935145cb9ad')\"\n",
              "            title=\"Suggest charts\"\n",
              "            style=\"display:none;\">\n",
              "\n",
              "<svg xmlns=\"http://www.w3.org/2000/svg\" height=\"24px\"viewBox=\"0 0 24 24\"\n",
              "     width=\"24px\">\n",
              "    <g>\n",
              "        <path d=\"M19 3H5c-1.1 0-2 .9-2 2v14c0 1.1.9 2 2 2h14c1.1 0 2-.9 2-2V5c0-1.1-.9-2-2-2zM9 17H7v-7h2v7zm4 0h-2V7h2v10zm4 0h-2v-4h2v4z\"/>\n",
              "    </g>\n",
              "</svg>\n",
              "  </button>\n",
              "\n",
              "<style>\n",
              "  .colab-df-quickchart {\n",
              "      --bg-color: #E8F0FE;\n",
              "      --fill-color: #1967D2;\n",
              "      --hover-bg-color: #E2EBFA;\n",
              "      --hover-fill-color: #174EA6;\n",
              "      --disabled-fill-color: #AAA;\n",
              "      --disabled-bg-color: #DDD;\n",
              "  }\n",
              "\n",
              "  [theme=dark] .colab-df-quickchart {\n",
              "      --bg-color: #3B4455;\n",
              "      --fill-color: #D2E3FC;\n",
              "      --hover-bg-color: #434B5C;\n",
              "      --hover-fill-color: #FFFFFF;\n",
              "      --disabled-bg-color: #3B4455;\n",
              "      --disabled-fill-color: #666;\n",
              "  }\n",
              "\n",
              "  .colab-df-quickchart {\n",
              "    background-color: var(--bg-color);\n",
              "    border: none;\n",
              "    border-radius: 50%;\n",
              "    cursor: pointer;\n",
              "    display: none;\n",
              "    fill: var(--fill-color);\n",
              "    height: 32px;\n",
              "    padding: 0;\n",
              "    width: 32px;\n",
              "  }\n",
              "\n",
              "  .colab-df-quickchart:hover {\n",
              "    background-color: var(--hover-bg-color);\n",
              "    box-shadow: 0 1px 2px rgba(60, 64, 67, 0.3), 0 1px 3px 1px rgba(60, 64, 67, 0.15);\n",
              "    fill: var(--button-hover-fill-color);\n",
              "  }\n",
              "\n",
              "  .colab-df-quickchart-complete:disabled,\n",
              "  .colab-df-quickchart-complete:disabled:hover {\n",
              "    background-color: var(--disabled-bg-color);\n",
              "    fill: var(--disabled-fill-color);\n",
              "    box-shadow: none;\n",
              "  }\n",
              "\n",
              "  .colab-df-spinner {\n",
              "    border: 2px solid var(--fill-color);\n",
              "    border-color: transparent;\n",
              "    border-bottom-color: var(--fill-color);\n",
              "    animation:\n",
              "      spin 1s steps(1) infinite;\n",
              "  }\n",
              "\n",
              "  @keyframes spin {\n",
              "    0% {\n",
              "      border-color: transparent;\n",
              "      border-bottom-color: var(--fill-color);\n",
              "      border-left-color: var(--fill-color);\n",
              "    }\n",
              "    20% {\n",
              "      border-color: transparent;\n",
              "      border-left-color: var(--fill-color);\n",
              "      border-top-color: var(--fill-color);\n",
              "    }\n",
              "    30% {\n",
              "      border-color: transparent;\n",
              "      border-left-color: var(--fill-color);\n",
              "      border-top-color: var(--fill-color);\n",
              "      border-right-color: var(--fill-color);\n",
              "    }\n",
              "    40% {\n",
              "      border-color: transparent;\n",
              "      border-right-color: var(--fill-color);\n",
              "      border-top-color: var(--fill-color);\n",
              "    }\n",
              "    60% {\n",
              "      border-color: transparent;\n",
              "      border-right-color: var(--fill-color);\n",
              "    }\n",
              "    80% {\n",
              "      border-color: transparent;\n",
              "      border-right-color: var(--fill-color);\n",
              "      border-bottom-color: var(--fill-color);\n",
              "    }\n",
              "    90% {\n",
              "      border-color: transparent;\n",
              "      border-bottom-color: var(--fill-color);\n",
              "    }\n",
              "  }\n",
              "</style>\n",
              "\n",
              "  <script>\n",
              "    async function quickchart(key) {\n",
              "      const quickchartButtonEl =\n",
              "        document.querySelector('#' + key + ' button');\n",
              "      quickchartButtonEl.disabled = true;  // To prevent multiple clicks.\n",
              "      quickchartButtonEl.classList.add('colab-df-spinner');\n",
              "      try {\n",
              "        const charts = await google.colab.kernel.invokeFunction(\n",
              "            'suggestCharts', [key], {});\n",
              "      } catch (error) {\n",
              "        console.error('Error during call to suggestCharts:', error);\n",
              "      }\n",
              "      quickchartButtonEl.classList.remove('colab-df-spinner');\n",
              "      quickchartButtonEl.classList.add('colab-df-quickchart-complete');\n",
              "    }\n",
              "    (() => {\n",
              "      let quickchartButtonEl =\n",
              "        document.querySelector('#df-09577888-290f-4e2d-a53f-e935145cb9ad button');\n",
              "      quickchartButtonEl.style.display =\n",
              "        google.colab.kernel.accessAllowed ? 'block' : 'none';\n",
              "    })();\n",
              "  </script>\n",
              "</div>\n",
              "\n",
              "    </div>\n",
              "  </div>\n"
            ],
            "application/vnd.google.colaboratory.intrinsic+json": {
              "type": "dataframe",
              "repr_error": "0"
            }
          },
          "metadata": {},
          "execution_count": 236
        }
      ]
    },
    {
      "cell_type": "markdown",
      "source": [
        "## 6. Calculate the Percentage Rate of Change"
      ],
      "metadata": {
        "id": "Y3AmR3eDxgfb"
      }
    },
    {
      "cell_type": "markdown",
      "source": [
        "Next, create a new column named `[\"rate_of_change\"]` based on `[\"close_change\"]`.\n",
        "\n",
        "Use the Pandas Review notebook for reference. Again, this is an easy operation in Pandas and does not require a for-loop."
      ],
      "metadata": {
        "id": "XK3yweENxjdn"
      }
    },
    {
      "cell_type": "code",
      "source": [
        "#adding a column that calculates percentage rate of change from the row above and previous calendar day\n",
        "sdf['rate_of_change'] = sdf['close_change'].pct_change()\n",
        "#should naturally be NaN in row 0 and row 1 because it has no previous"
      ],
      "metadata": {
        "id": "FqL5yyvi6w7r"
      },
      "execution_count": 189,
      "outputs": []
    },
    {
      "cell_type": "code",
      "source": [
        "#getting ready for next task\n",
        "sdf.sort_values(by='rate_of_change', ascending=False)"
      ],
      "metadata": {
        "id": "BSAYd2qhhUeS"
      },
      "execution_count": null,
      "outputs": []
    },
    {
      "cell_type": "markdown",
      "source": [
        "## 7. Identify Days of Greatest Percentage Change"
      ],
      "metadata": {
        "id": "2ifRW8qU3OOB"
      }
    },
    {
      "cell_type": "markdown",
      "source": [
        "Based on the rate change column calculated above, identify the top 5 days of greatest positive rate change, and the top 5 days of greatest negative rate change.\n",
        "\n",
        "Display your results in a table showing both the rate of change and their dates."
      ],
      "metadata": {
        "id": "ISZf2C1j3bAA"
      }
    },
    {
      "cell_type": "code",
      "source": [
        "#5 greatest positive rate change:\n",
        "top5prc = sdf.sort_values(by='rate_of_change', ascending=False).head(5)\n",
        "#5 greatest negative rate change\n",
        "top5nrc = sdf.sort_values(by='rate_of_change', ascending=True).head(5)"
      ],
      "metadata": {
        "id": "sGlUUWFxfS2w"
      },
      "execution_count": 191,
      "outputs": []
    },
    {
      "cell_type": "code",
      "source": [
        "#using .concat() operator to conjoin frames to only display 1 table per instructions\n",
        "top5c = pd.concat([top5prc, top5nrc])\n",
        "#displaying in the table both rate of change and dates, sorted already\n",
        "top5c[['timestamp', 'rate_of_change']].sort_values(by='rate_of_change', ascending=False)"
      ],
      "metadata": {
        "id": "CO45edJBh6h8",
        "outputId": "66e6bc0b-c7b6-4a84-d6a9-70112a7deef3",
        "colab": {
          "base_uri": "https://localhost:8080/",
          "height": 363
        }
      },
      "execution_count": 192,
      "outputs": [
        {
          "output_type": "execute_result",
          "data": {
            "text/plain": [
              "                    timestamp  rate_of_change\n",
              "359  2021-12-28T23:59:59.999Z      612.326740\n",
              "673  2022-11-08T23:59:59.999Z      129.835551\n",
              "494  2022-05-13T23:59:59.999Z      117.908853\n",
              "423  2022-03-03T23:59:59.999Z       92.537644\n",
              "220  2021-08-11T23:59:59.999Z       65.569141\n",
              "551  2022-07-09T23:59:59.999Z      -50.514692\n",
              "596  2022-08-23T23:59:59.999Z      -84.342694\n",
              "621  2022-09-17T23:59:59.999Z     -111.945189\n",
              "540  2022-06-28T23:59:59.999Z     -164.238246\n",
              "288  2021-10-18T23:59:59.999Z     -262.744729"
            ],
            "text/html": [
              "\n",
              "  <div id=\"df-e07bb3fc-a76c-4c20-9b4d-4dc4ef7b36b5\" class=\"colab-df-container\">\n",
              "    <div>\n",
              "<style scoped>\n",
              "    .dataframe tbody tr th:only-of-type {\n",
              "        vertical-align: middle;\n",
              "    }\n",
              "\n",
              "    .dataframe tbody tr th {\n",
              "        vertical-align: top;\n",
              "    }\n",
              "\n",
              "    .dataframe thead th {\n",
              "        text-align: right;\n",
              "    }\n",
              "</style>\n",
              "<table border=\"1\" class=\"dataframe\">\n",
              "  <thead>\n",
              "    <tr style=\"text-align: right;\">\n",
              "      <th></th>\n",
              "      <th>timestamp</th>\n",
              "      <th>rate_of_change</th>\n",
              "    </tr>\n",
              "  </thead>\n",
              "  <tbody>\n",
              "    <tr>\n",
              "      <th>359</th>\n",
              "      <td>2021-12-28T23:59:59.999Z</td>\n",
              "      <td>612.326740</td>\n",
              "    </tr>\n",
              "    <tr>\n",
              "      <th>673</th>\n",
              "      <td>2022-11-08T23:59:59.999Z</td>\n",
              "      <td>129.835551</td>\n",
              "    </tr>\n",
              "    <tr>\n",
              "      <th>494</th>\n",
              "      <td>2022-05-13T23:59:59.999Z</td>\n",
              "      <td>117.908853</td>\n",
              "    </tr>\n",
              "    <tr>\n",
              "      <th>423</th>\n",
              "      <td>2022-03-03T23:59:59.999Z</td>\n",
              "      <td>92.537644</td>\n",
              "    </tr>\n",
              "    <tr>\n",
              "      <th>220</th>\n",
              "      <td>2021-08-11T23:59:59.999Z</td>\n",
              "      <td>65.569141</td>\n",
              "    </tr>\n",
              "    <tr>\n",
              "      <th>551</th>\n",
              "      <td>2022-07-09T23:59:59.999Z</td>\n",
              "      <td>-50.514692</td>\n",
              "    </tr>\n",
              "    <tr>\n",
              "      <th>596</th>\n",
              "      <td>2022-08-23T23:59:59.999Z</td>\n",
              "      <td>-84.342694</td>\n",
              "    </tr>\n",
              "    <tr>\n",
              "      <th>621</th>\n",
              "      <td>2022-09-17T23:59:59.999Z</td>\n",
              "      <td>-111.945189</td>\n",
              "    </tr>\n",
              "    <tr>\n",
              "      <th>540</th>\n",
              "      <td>2022-06-28T23:59:59.999Z</td>\n",
              "      <td>-164.238246</td>\n",
              "    </tr>\n",
              "    <tr>\n",
              "      <th>288</th>\n",
              "      <td>2021-10-18T23:59:59.999Z</td>\n",
              "      <td>-262.744729</td>\n",
              "    </tr>\n",
              "  </tbody>\n",
              "</table>\n",
              "</div>\n",
              "    <div class=\"colab-df-buttons\">\n",
              "\n",
              "  <div class=\"colab-df-container\">\n",
              "    <button class=\"colab-df-convert\" onclick=\"convertToInteractive('df-e07bb3fc-a76c-4c20-9b4d-4dc4ef7b36b5')\"\n",
              "            title=\"Convert this dataframe to an interactive table.\"\n",
              "            style=\"display:none;\">\n",
              "\n",
              "  <svg xmlns=\"http://www.w3.org/2000/svg\" height=\"24px\" viewBox=\"0 -960 960 960\">\n",
              "    <path d=\"M120-120v-720h720v720H120Zm60-500h600v-160H180v160Zm220 220h160v-160H400v160Zm0 220h160v-160H400v160ZM180-400h160v-160H180v160Zm440 0h160v-160H620v160ZM180-180h160v-160H180v160Zm440 0h160v-160H620v160Z\"/>\n",
              "  </svg>\n",
              "    </button>\n",
              "\n",
              "  <style>\n",
              "    .colab-df-container {\n",
              "      display:flex;\n",
              "      gap: 12px;\n",
              "    }\n",
              "\n",
              "    .colab-df-convert {\n",
              "      background-color: #E8F0FE;\n",
              "      border: none;\n",
              "      border-radius: 50%;\n",
              "      cursor: pointer;\n",
              "      display: none;\n",
              "      fill: #1967D2;\n",
              "      height: 32px;\n",
              "      padding: 0 0 0 0;\n",
              "      width: 32px;\n",
              "    }\n",
              "\n",
              "    .colab-df-convert:hover {\n",
              "      background-color: #E2EBFA;\n",
              "      box-shadow: 0px 1px 2px rgba(60, 64, 67, 0.3), 0px 1px 3px 1px rgba(60, 64, 67, 0.15);\n",
              "      fill: #174EA6;\n",
              "    }\n",
              "\n",
              "    .colab-df-buttons div {\n",
              "      margin-bottom: 4px;\n",
              "    }\n",
              "\n",
              "    [theme=dark] .colab-df-convert {\n",
              "      background-color: #3B4455;\n",
              "      fill: #D2E3FC;\n",
              "    }\n",
              "\n",
              "    [theme=dark] .colab-df-convert:hover {\n",
              "      background-color: #434B5C;\n",
              "      box-shadow: 0px 1px 3px 1px rgba(0, 0, 0, 0.15);\n",
              "      filter: drop-shadow(0px 1px 2px rgba(0, 0, 0, 0.3));\n",
              "      fill: #FFFFFF;\n",
              "    }\n",
              "  </style>\n",
              "\n",
              "    <script>\n",
              "      const buttonEl =\n",
              "        document.querySelector('#df-e07bb3fc-a76c-4c20-9b4d-4dc4ef7b36b5 button.colab-df-convert');\n",
              "      buttonEl.style.display =\n",
              "        google.colab.kernel.accessAllowed ? 'block' : 'none';\n",
              "\n",
              "      async function convertToInteractive(key) {\n",
              "        const element = document.querySelector('#df-e07bb3fc-a76c-4c20-9b4d-4dc4ef7b36b5');\n",
              "        const dataTable =\n",
              "          await google.colab.kernel.invokeFunction('convertToInteractive',\n",
              "                                                    [key], {});\n",
              "        if (!dataTable) return;\n",
              "\n",
              "        const docLinkHtml = 'Like what you see? Visit the ' +\n",
              "          '<a target=\"_blank\" href=https://colab.research.google.com/notebooks/data_table.ipynb>data table notebook</a>'\n",
              "          + ' to learn more about interactive tables.';\n",
              "        element.innerHTML = '';\n",
              "        dataTable['output_type'] = 'display_data';\n",
              "        await google.colab.output.renderOutput(dataTable, element);\n",
              "        const docLink = document.createElement('div');\n",
              "        docLink.innerHTML = docLinkHtml;\n",
              "        element.appendChild(docLink);\n",
              "      }\n",
              "    </script>\n",
              "  </div>\n",
              "\n",
              "\n",
              "<div id=\"df-d7b6b4ef-b2dd-4b84-baf2-06877624a330\">\n",
              "  <button class=\"colab-df-quickchart\" onclick=\"quickchart('df-d7b6b4ef-b2dd-4b84-baf2-06877624a330')\"\n",
              "            title=\"Suggest charts\"\n",
              "            style=\"display:none;\">\n",
              "\n",
              "<svg xmlns=\"http://www.w3.org/2000/svg\" height=\"24px\"viewBox=\"0 0 24 24\"\n",
              "     width=\"24px\">\n",
              "    <g>\n",
              "        <path d=\"M19 3H5c-1.1 0-2 .9-2 2v14c0 1.1.9 2 2 2h14c1.1 0 2-.9 2-2V5c0-1.1-.9-2-2-2zM9 17H7v-7h2v7zm4 0h-2V7h2v10zm4 0h-2v-4h2v4z\"/>\n",
              "    </g>\n",
              "</svg>\n",
              "  </button>\n",
              "\n",
              "<style>\n",
              "  .colab-df-quickchart {\n",
              "      --bg-color: #E8F0FE;\n",
              "      --fill-color: #1967D2;\n",
              "      --hover-bg-color: #E2EBFA;\n",
              "      --hover-fill-color: #174EA6;\n",
              "      --disabled-fill-color: #AAA;\n",
              "      --disabled-bg-color: #DDD;\n",
              "  }\n",
              "\n",
              "  [theme=dark] .colab-df-quickchart {\n",
              "      --bg-color: #3B4455;\n",
              "      --fill-color: #D2E3FC;\n",
              "      --hover-bg-color: #434B5C;\n",
              "      --hover-fill-color: #FFFFFF;\n",
              "      --disabled-bg-color: #3B4455;\n",
              "      --disabled-fill-color: #666;\n",
              "  }\n",
              "\n",
              "  .colab-df-quickchart {\n",
              "    background-color: var(--bg-color);\n",
              "    border: none;\n",
              "    border-radius: 50%;\n",
              "    cursor: pointer;\n",
              "    display: none;\n",
              "    fill: var(--fill-color);\n",
              "    height: 32px;\n",
              "    padding: 0;\n",
              "    width: 32px;\n",
              "  }\n",
              "\n",
              "  .colab-df-quickchart:hover {\n",
              "    background-color: var(--hover-bg-color);\n",
              "    box-shadow: 0 1px 2px rgba(60, 64, 67, 0.3), 0 1px 3px 1px rgba(60, 64, 67, 0.15);\n",
              "    fill: var(--button-hover-fill-color);\n",
              "  }\n",
              "\n",
              "  .colab-df-quickchart-complete:disabled,\n",
              "  .colab-df-quickchart-complete:disabled:hover {\n",
              "    background-color: var(--disabled-bg-color);\n",
              "    fill: var(--disabled-fill-color);\n",
              "    box-shadow: none;\n",
              "  }\n",
              "\n",
              "  .colab-df-spinner {\n",
              "    border: 2px solid var(--fill-color);\n",
              "    border-color: transparent;\n",
              "    border-bottom-color: var(--fill-color);\n",
              "    animation:\n",
              "      spin 1s steps(1) infinite;\n",
              "  }\n",
              "\n",
              "  @keyframes spin {\n",
              "    0% {\n",
              "      border-color: transparent;\n",
              "      border-bottom-color: var(--fill-color);\n",
              "      border-left-color: var(--fill-color);\n",
              "    }\n",
              "    20% {\n",
              "      border-color: transparent;\n",
              "      border-left-color: var(--fill-color);\n",
              "      border-top-color: var(--fill-color);\n",
              "    }\n",
              "    30% {\n",
              "      border-color: transparent;\n",
              "      border-left-color: var(--fill-color);\n",
              "      border-top-color: var(--fill-color);\n",
              "      border-right-color: var(--fill-color);\n",
              "    }\n",
              "    40% {\n",
              "      border-color: transparent;\n",
              "      border-right-color: var(--fill-color);\n",
              "      border-top-color: var(--fill-color);\n",
              "    }\n",
              "    60% {\n",
              "      border-color: transparent;\n",
              "      border-right-color: var(--fill-color);\n",
              "    }\n",
              "    80% {\n",
              "      border-color: transparent;\n",
              "      border-right-color: var(--fill-color);\n",
              "      border-bottom-color: var(--fill-color);\n",
              "    }\n",
              "    90% {\n",
              "      border-color: transparent;\n",
              "      border-bottom-color: var(--fill-color);\n",
              "    }\n",
              "  }\n",
              "</style>\n",
              "\n",
              "  <script>\n",
              "    async function quickchart(key) {\n",
              "      const quickchartButtonEl =\n",
              "        document.querySelector('#' + key + ' button');\n",
              "      quickchartButtonEl.disabled = true;  // To prevent multiple clicks.\n",
              "      quickchartButtonEl.classList.add('colab-df-spinner');\n",
              "      try {\n",
              "        const charts = await google.colab.kernel.invokeFunction(\n",
              "            'suggestCharts', [key], {});\n",
              "      } catch (error) {\n",
              "        console.error('Error during call to suggestCharts:', error);\n",
              "      }\n",
              "      quickchartButtonEl.classList.remove('colab-df-spinner');\n",
              "      quickchartButtonEl.classList.add('colab-df-quickchart-complete');\n",
              "    }\n",
              "    (() => {\n",
              "      let quickchartButtonEl =\n",
              "        document.querySelector('#df-d7b6b4ef-b2dd-4b84-baf2-06877624a330 button');\n",
              "      quickchartButtonEl.style.display =\n",
              "        google.colab.kernel.accessAllowed ? 'block' : 'none';\n",
              "    })();\n",
              "  </script>\n",
              "</div>\n",
              "\n",
              "    </div>\n",
              "  </div>\n"
            ],
            "application/vnd.google.colaboratory.intrinsic+json": {
              "type": "dataframe",
              "repr_error": "0"
            }
          },
          "metadata": {},
          "execution_count": 192
        }
      ]
    },
    {
      "cell_type": "markdown",
      "source": [
        "## 8. Plot the Data"
      ],
      "metadata": {
        "id": "2B9dxJbno0s0"
      }
    },
    {
      "cell_type": "markdown",
      "source": [
        "Create two separate plots of the data -- one for the daily closing price and one for the daily gains/losses. These can be histograms or line plots."
      ],
      "metadata": {
        "id": "LwMrL6-AplCH"
      }
    },
    {
      "cell_type": "markdown",
      "source": [
        "\n",
        "plt.xticks( [sdf['timestamp'].iloc[0],sdf['timestamp'].iloc[727]])\n",
        "tick_labels = ['01-03-2021', '12-21-2022']"
      ],
      "metadata": {
        "id": "lUf8LXLnUvno"
      }
    },
    {
      "cell_type": "code",
      "source": [
        "#using matplotlib.pyplot as plt to create line plot for daily closing price\n",
        "plt.plot(sdf['timestamp'], sdf['close'], color='black')\n",
        "#improving plot with visual opperators\n",
        "plt.title('FTX daily closing price (2021-2022)')\n",
        "plt.ylabel('closing price in $')\n",
        "plt.grid(True)\n",
        "plt.xlim(0,726)\n",
        "plt.ylim(0,85)\n",
        "#adding tickers at the beginning and end, but also notable high using matplot operators I reasearched\n",
        "tickp = [sdf['timestamp'].iloc[1], sdf['timestamp'].iloc[249], sdf['timestamp'].iloc[726]]\n",
        "tickn = ['01-03-2021', '09-09-2021', '12-31-2022']\n",
        "plt.xticks(tickp, tickn, fontsize=6)"
      ],
      "metadata": {
        "colab": {
          "base_uri": "https://localhost:8080/",
          "height": 554
        },
        "id": "EOOEt0nbRBZN",
        "outputId": "00815438-35e9-4544-a330-2d48b4a14a47"
      },
      "execution_count": 237,
      "outputs": [
        {
          "output_type": "execute_result",
          "data": {
            "text/plain": [
              "([<matplotlib.axis.XTick at 0x7df4d7a24af0>,\n",
              "  <matplotlib.axis.XTick at 0x7df4d7a24ac0>,\n",
              "  <matplotlib.axis.XTick at 0x7df4d82db520>],\n",
              " [Text(1.0, 0, '01-03-2021'),\n",
              "  Text(249.0, 0, '09-09-2021'),\n",
              "  Text(726.0, 0, '12-31-2022')])"
            ]
          },
          "metadata": {},
          "execution_count": 237
        },
        {
          "output_type": "display_data",
          "data": {
            "text/plain": [
              "<Figure size 640x480 with 1 Axes>"
            ],
            "image/png": "[encoded data removed]"
          },
          "metadata": {}
        }
      ]
    },
    {
      "cell_type": "code",
      "source": [
        "#using matplotlib.pyplot as plt to create line plot for daily gains/loses\n",
        "plt.plot(sdf['timestamp'], sdf['close_change'], color='black')\n",
        "# againg improving plot with use visual operators I researched\n",
        "plt.title('FTX daily gains/losses (2021-2022)')\n",
        "plt.ylabel('daily gains/losses in $')\n",
        "plt.grid(True)\n",
        "plt.xlim(0,726)\n",
        "#same ticker operators highlighting notable points and their corresponding dates\n",
        "tickp2 = [sdf['timestamp'].iloc[1], sdf['timestamp'].iloc[136],sdf['timestamp'].iloc[241],sdf['timestamp'].iloc[673], sdf['timestamp'].iloc[726]]\n",
        "tickn2 = ['01-03-2021', '05-19-2021', '09-01-2021', '11-08-2022', '12-31-2022']\n",
        "#rotating tickers because they were overlapping\n",
        "plt.xticks(rotation=30)\n",
        "plt.xticks(tickp2, tickn2, fontsize=6)\n",
        "#using this operator to highlight axis at 0 for clarity\n",
        "plt.axhline(y=0, linewidth=2)"
      ],
      "metadata": {
        "id": "R0vq1cLRB0Kl",
        "outputId": "cdfb3894-50b3-4fca-cffc-29d0223d3f5c",
        "colab": {
          "base_uri": "https://localhost:8080/",
          "height": 488
        }
      },
      "execution_count": 247,
      "outputs": [
        {
          "output_type": "execute_result",
          "data": {
            "text/plain": [
              "<matplotlib.lines.Line2D at 0x7df4d3e8e3e0>"
            ]
          },
          "metadata": {},
          "execution_count": 247
        },
        {
          "output_type": "display_data",
          "data": {
            "text/plain": [
              "<Figure size 640x480 with 1 Axes>"
            ],
            "image/png": "[encoded data removed]"
          },
          "metadata": {}
        }
      ]
    },
    {
      "cell_type": "markdown",
      "source": [
        "Combine the two plots from above into a single plot, displaying both together. Your plot should have two Y-axis scales, should differentiate the two values by color, and should include a legend."
      ],
      "metadata": {
        "id": "xRT2iFAI5s4S"
      }
    },
    {
      "cell_type": "code",
      "source": [
        "#learned that you don't have to write chunk combining sets in the begging, you can plot them separately and create axes using .subplots() in matplotlib\n",
        "#so now start with our first, the close price plot\n",
        "x2, x = plt.subplots()\n",
        "#creating first with the 'close' set, label is for future legend\n",
        "x.plot(sdf['timestamp'], sdf['close'], color='black', label='closing price')\n",
        "#same operators as before to improve visualization\n",
        "x.set_ylabel('closing price in $')\n",
        "x.grid(True)\n",
        "x.set_xticks([])\n",
        "x.set_xlim(0, 726)\n",
        "#now using .twin() creating to create second axes and following the same steps, but the grid and zoom/range operators will carry over from chunk above since it is all on the same plot\n",
        "x2 = x.twinx()\n",
        "x2.plot(sdf['timestamp'], sdf['close_change'], color='blue', label='daily gains/losses')\n",
        "x2.set_ylabel('daily gains/losses in $')\n",
        "x2.set_xticks([])\n",
        "#doing same as 'close_change' plot to make axis at y=0 pop\n",
        "plt.axhline(y=0, color='red', linestyle='-', linewidth=2)\n",
        "#now adding legend and title using legend operators researhed\n",
        "lines, labels = x.get_legend_handles_labels()\n",
        "lines2, labels2 = x2.get_legend_handles_labels()\n",
        "plt.legend(la + lines2, labels + labels2)\n",
        "x.set_title('FTX daily closing price and daily gains/losses (2021-2022)')\n",
        "# and last adding x axis ticker for our date range so our x axis is clearly time\n",
        "tickp3 = [sdf['timestamp'].iloc[1], sdf['timestamp'].iloc[726]]\n",
        "tickn3 = ['01-03-2021', '12-31-2022']\n",
        "plt.xticks(tickp3, tickn3, fontsize=8)"
      ],
      "metadata": {
        "id": "Qoom1Ad4eKhj",
        "outputId": "1e6f8f25-1caf-4486-edcf-a996f2aa7307",
        "colab": {
          "base_uri": "https://localhost:8080/",
          "height": 506
        }
      },
      "execution_count": 253,
      "outputs": [
        {
          "output_type": "execute_result",
          "data": {
            "text/plain": [
              "([<matplotlib.axis.XTick at 0x7df4d5f634c0>,\n",
              "  <matplotlib.axis.XTick at 0x7df4d5f626e0>],\n",
              " [Text(1.0, 0, '01-03-2021'), Text(726.0, 0, '12-31-2022')])"
            ]
          },
          "metadata": {},
          "execution_count": 253
        },
        {
          "output_type": "display_data",
          "data": {
            "text/plain": [
              "<Figure size 640x480 with 2 Axes>"
            ],
            "image/png": "[encoded data removed]"
          },
          "metadata": {}
        }
      ]
    }
  ]
}