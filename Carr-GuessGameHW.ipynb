{
  "nbformat": 4,
  "nbformat_minor": 0,
  "metadata": {
    "colab": {
      "provenance": [],
      "authorship_tag": "ABX9TyONlVOKMm02Xs1EZ04B+R89",
      "include_colab_link": true
    },
    "kernelspec": {
      "name": "python3",
      "display_name": "Python 3"
    },
    "language_info": {
      "name": "python"
    }
  },
  "cells": [
    {
      "cell_type": "markdown",
      "metadata": {
        "id": "view-in-github",
        "colab_type": "text"
      },
      "source": [
        "<a href=\"https://colab.research.google.com/github/williamtatecarr/DS-1002/blob/main/Carr-GuessGameHW.ipynb\" target=\"_parent\"><img src=\"https://colab.research.google.com/assets/colab-badge.svg\" alt=\"Open In Colab\"/></a>"
      ]
    },
    {
      "cell_type": "code",
      "execution_count": null,
      "metadata": {
        "colab": {
          "base_uri": "https://localhost:8080/"
        },
        "id": "9yqKKQn9kiqT",
        "outputId": "91a19790-d1f4-4a48-bf32-0fa77eca60ed"
      },
      "outputs": [
        {
          "output_type": "stream",
          "name": "stdout",
          "text": [
            "The computer has selected random integer between 0 and 100. You are to guess the it.\n"
          ]
        }
      ],
      "source": [
        "print(\"The computer has selected random integer between 0 and 100. You are to guess the it.\")\n",
        "\n",
        "import random\n",
        "rand = random.randint(0,100)\n",
        "\n",
        "\n",
        "guess = input(\"What is your first guess?\")\n",
        "\n",
        "if guess.isdigit():\n",
        "  guessint = int(guess)\n",
        "else:\n",
        "  guess = input(\"That was not an integer between 0 and 100. Guess again in the given parameters.\")\n",
        "\n",
        "while(guessint!=rand):\n",
        "  if guessint > rand:\n",
        "    guessint = int(input(\"Too high. What is your next guess?\"))\n",
        "  else:\n",
        "    guessint = int(input(\"Too low. What is your next guess?\"))\n",
        "\n",
        "print(\"You got it!\")\n",
        "\n"
      ]
    },
    {
      "cell_type": "markdown",
      "source": [
        "This took me around 2 hours."
      ],
      "metadata": {
        "id": "vtYrXtn8sJWS"
      }
    }
  ]
}