{
  "cells": [
    {
      "cell_type": "markdown",
      "metadata": {
        "id": "view-in-github",
        "colab_type": "text"
      },
      "source": [
        "<a href=\"https://colab.research.google.com/github/williamtatecarr/DS-1002/blob/main/MorePythonBasics.ipynb\" target=\"_parent\"><img src=\"https://colab.research.google.com/assets/colab-badge.svg\" alt=\"Open In Colab\"/></a>"
      ]
    },
    {
      "cell_type": "markdown",
      "id": "7f2a553a",
      "metadata": {
        "id": "7f2a553a"
      },
      "source": [
        "# Metadata\n",
        "\n",
        "```\n",
        "Course:      DS 1002\n",
        "Week:        Python Basics\n",
        "Topic:       Python Types, Operators, and Expressions\n",
        "```"
      ]
    },
    {
      "cell_type": "markdown",
      "id": "19ee6f8f",
      "metadata": {
        "id": "19ee6f8f"
      },
      "source": [
        "# Comments"
      ]
    },
    {
      "cell_type": "code",
      "source": [
        "# Here is a comment"
      ],
      "metadata": {
        "id": "g_BGKgNt2gtz"
      },
      "id": "g_BGKgNt2gtz",
      "execution_count": null,
      "outputs": []
    },
    {
      "cell_type": "markdown",
      "id": "2e95d671",
      "metadata": {
        "id": "2e95d671"
      },
      "source": [
        "You can comment out any single line with a # character.\n",
        "    \n",
        "    # Here is a comment\n",
        "\n",
        "You can comment out multiple lines using triple quote marks on both ends.\n",
        "\n",
        "```python\n",
        "\"\"\"\n",
        "Here is a long comment that takes up several lines.\n",
        "I wonder how long it will go?\n",
        "Okay maybe just three lines long\n",
        "\"\"\"\n",
        "```"
      ]
    },
    {
      "cell_type": "markdown",
      "id": "420867eb",
      "metadata": {
        "id": "420867eb"
      },
      "source": [
        "# Reserved Keywords"
      ]
    },
    {
      "cell_type": "markdown",
      "id": "5c1c4907",
      "metadata": {
        "id": "5c1c4907"
      },
      "source": [
        "Reserved keywords have specific meanings and restrictions on how they should be used. There are lots of them!  But, you should nevertheless have no trouble naming your variables.\n",
        "\n",
        "More examples:\n",
        "\n",
        "`False`   \n",
        "`await`\n",
        "`else`\n",
        "`import`   \n",
        "`pass`  \n",
        "`None`   \n",
        "`break`   \n",
        "`except`   \n",
        "`in`   \n",
        "`raise`   \n",
        "`True`   \n",
        "`class`   \n",
        "`finally`   \n",
        "`is`\n",
        "`return`   \n",
        "`and`   \n",
        "`continue`   \n",
        "`for`   \n",
        "`lambda`   \n",
        "`try`   \n",
        "`as`   \n",
        "`def`   \n",
        "`from`   \n",
        "`nonlocal`   \n",
        "`while`   \n",
        "`assert`   \n",
        "`del`   \n",
        "`global`\n",
        "`not`   \n",
        "`with`   \n",
        "`async`   \n",
        "`elif`\t  \n",
        "`if`   \n",
        "`or`   \n",
        "`yield`"
      ]
    },
    {
      "cell_type": "markdown",
      "id": "2f7ae123",
      "metadata": {
        "id": "2f7ae123"
      },
      "source": [
        "# Variables & Types"
      ]
    },
    {
      "cell_type": "markdown",
      "id": "92a9caa8",
      "metadata": {
        "id": "92a9caa8"
      },
      "source": [
        "Variables are assigned types **dynamically**."
      ]
    },
    {
      "cell_type": "code",
      "execution_count": null,
      "id": "fe148025",
      "metadata": {
        "id": "fe148025"
      },
      "outputs": [],
      "source": [
        "# variable name = assigned value\n",
        "x = 4\n",
        "x"
      ]
    },
    {
      "cell_type": "code",
      "execution_count": null,
      "id": "62a4d6d9",
      "metadata": {
        "id": "62a4d6d9"
      },
      "outputs": [],
      "source": [
        "y = 100 + 25\n",
        "y"
      ]
    },
    {
      "cell_type": "code",
      "execution_count": null,
      "id": "ec0ca490",
      "metadata": {
        "id": "ec0ca490"
      },
      "outputs": [],
      "source": [
        "# can type variable to get value\n",
        "x"
      ]
    },
    {
      "cell_type": "code",
      "execution_count": null,
      "id": "bfb5dda2",
      "metadata": {
        "id": "bfb5dda2"
      },
      "outputs": [],
      "source": [
        "# can use print() function to view assigned value\n",
        "# the print() function has a lot of uses and will be discussed later\n",
        "print(x)"
      ]
    },
    {
      "cell_type": "code",
      "execution_count": null,
      "id": "256e6b1c",
      "metadata": {
        "colab": {
          "base_uri": "https://localhost:8080/"
        },
        "id": "256e6b1c",
        "outputId": "8b4e84a9-1ec9-422d-d980-363dc20ef219"
      },
      "outputs": [
        {
          "output_type": "execute_result",
          "data": {
            "text/plain": [
              "5"
            ]
          },
          "metadata": {},
          "execution_count": 9
        }
      ],
      "source": [
        "# reassign variable\n",
        "x = 5\n",
        "x"
      ]
    },
    {
      "cell_type": "code",
      "execution_count": null,
      "id": "358db343",
      "metadata": {
        "id": "358db343"
      },
      "outputs": [],
      "source": [
        "# variable arithmetic\n",
        "x + y"
      ]
    },
    {
      "cell_type": "code",
      "execution_count": null,
      "id": "2f439542",
      "metadata": {
        "id": "2f439542"
      },
      "outputs": [],
      "source": [
        "# variables of other data types\n",
        "float_var = 4.22\n",
        "string_var = 'virginia'\n",
        "bool_var = True"
      ]
    },
    {
      "cell_type": "code",
      "execution_count": null,
      "id": "c7450065",
      "metadata": {
        "id": "c7450065"
      },
      "outputs": [],
      "source": [
        "type(float_var) # gives you type of data variable is holding"
      ]
    },
    {
      "cell_type": "code",
      "execution_count": null,
      "id": "2a29aba5",
      "metadata": {
        "id": "2a29aba5"
      },
      "outputs": [],
      "source": [
        "# delete a variable with function del()\n",
        "del(x)\n",
        "\n",
        "x"
      ]
    },
    {
      "cell_type": "markdown",
      "id": "c2b08e1b",
      "metadata": {
        "id": "c2b08e1b"
      },
      "source": [
        "## Converting Data Types\n",
        "\n",
        "When needed you can 'cast' a variable as a different string type (remember Python automatically assigns data type to a variable).\n",
        "\n",
        "We do this through casting functions:"
      ]
    },
    {
      "cell_type": "markdown",
      "id": "dbb0c35f",
      "metadata": {
        "id": "dbb0c35f"
      },
      "source": [
        "**`int()`**"
      ]
    },
    {
      "cell_type": "code",
      "execution_count": null,
      "id": "39b9e5f5",
      "metadata": {
        "id": "39b9e5f5"
      },
      "outputs": [],
      "source": [
        "# create float variable\n",
        "var_float = 9.6\n",
        "type(var_float)"
      ]
    },
    {
      "cell_type": "code",
      "execution_count": null,
      "id": "b6440326",
      "metadata": {
        "id": "b6440326"
      },
      "outputs": [],
      "source": [
        "# cast float to integer\n",
        "var_int = int(var_float)\n",
        "\n",
        "print(type(var_int))\n",
        "var_int"
      ]
    },
    {
      "cell_type": "markdown",
      "id": "7765a689",
      "metadata": {
        "id": "7765a689"
      },
      "source": [
        "**`float()`**"
      ]
    },
    {
      "cell_type": "code",
      "execution_count": null,
      "id": "b052299d",
      "metadata": {
        "id": "b052299d"
      },
      "outputs": [],
      "source": [
        "# create string variable\n",
        "var_str = '2.71'\n",
        "type(var_str)"
      ]
    },
    {
      "cell_type": "code",
      "execution_count": null,
      "id": "3c617d79",
      "metadata": {
        "id": "3c617d79"
      },
      "outputs": [],
      "source": [
        "# cast string to float\n",
        "var_float = float(var_str)\n",
        "print(type(var_float))\n",
        "print(var_float)"
      ]
    },
    {
      "cell_type": "markdown",
      "id": "a39bd925",
      "metadata": {
        "id": "a39bd925"
      },
      "source": [
        "# Operators\n",
        "\n",
        "If variables are **nouns**, and values **meanings**, then operators are **verbs**.\n",
        "\n",
        "In effect, they are **elementary functions** that are expressed in sequential syntax.\n",
        "\n",
        "**Each data type is associated with a set of operators** that allow you to manipulate the data in way that makes sense for its type. Numeric data types are subject to mathematical operations, booleans to logical ones, and so forth.\n",
        "\n",
        "There are also **operations appropriate to structures**. For example, list-like things have membership.\n",
        "\n",
        "The relationship between types and operators is a little bit like the relationship betweed data structures and algorithms. **An algorithm is typically designed for a particular data structure.**\n",
        "\n",
        "The w3schools site has [a good summary](https://www.w3schools.com/python/python_operators.asp).\n"
      ]
    },
    {
      "cell_type": "markdown",
      "id": "62f47df4",
      "metadata": {
        "id": "62f47df4"
      },
      "source": [
        "## Numeric Operators"
      ]
    },
    {
      "cell_type": "markdown",
      "id": "36321606",
      "metadata": {
        "id": "36321606"
      },
      "source": [
        "Common: `+`, `-`, `*`, `/`\n",
        "\n",
        "\n",
        "\n",
        "Other operators:"
      ]
    },
    {
      "cell_type": "markdown",
      "id": "19c15a61",
      "metadata": {
        "id": "19c15a61"
      },
      "source": [
        "**floor division `//`**\n",
        "\n",
        "returns the largest integer less than or equal to the result"
      ]
    },
    {
      "cell_type": "code",
      "execution_count": null,
      "id": "b2746f37",
      "metadata": {
        "id": "b2746f37"
      },
      "outputs": [],
      "source": [
        "5 // 2"
      ]
    },
    {
      "cell_type": "code",
      "execution_count": null,
      "id": "54cd2cde",
      "metadata": {
        "id": "54cd2cde"
      },
      "outputs": [],
      "source": [
        "-5 // 2"
      ]
    },
    {
      "cell_type": "markdown",
      "id": "f760f61f",
      "metadata": {
        "id": "f760f61f"
      },
      "source": [
        "**modulus `%`**\n",
        "\n",
        "returns the remainder after a division operation"
      ]
    },
    {
      "cell_type": "code",
      "execution_count": 7,
      "id": "883ab576",
      "metadata": {
        "id": "883ab576",
        "outputId": "0feea969-4e00-4636-fa51-702973b4e702",
        "colab": {
          "base_uri": "https://localhost:8080/"
        }
      },
      "outputs": [
        {
          "output_type": "execute_result",
          "data": {
            "text/plain": [
              "1"
            ]
          },
          "metadata": {},
          "execution_count": 7
        }
      ],
      "source": [
        "5 % 2"
      ]
    },
    {
      "cell_type": "code",
      "execution_count": null,
      "id": "5cd863fc",
      "metadata": {
        "id": "5cd863fc"
      },
      "outputs": [],
      "source": [
        "print(5.5 / 2)\n",
        "print(5.5 // 2)\n",
        "print(5.5 % 2)"
      ]
    },
    {
      "cell_type": "markdown",
      "id": "f7b812d1",
      "metadata": {
        "id": "f7b812d1"
      },
      "source": [
        "**exponentiation `**` **"
      ]
    },
    {
      "cell_type": "code",
      "execution_count": null,
      "id": "65646db4",
      "metadata": {
        "id": "65646db4"
      },
      "outputs": [],
      "source": [
        "5**2"
      ]
    },
    {
      "cell_type": "markdown",
      "id": "d4e24480",
      "metadata": {
        "id": "d4e24480"
      },
      "source": [
        "## String Operators"
      ]
    },
    {
      "cell_type": "markdown",
      "id": "beddac76",
      "metadata": {
        "id": "beddac76"
      },
      "source": [
        "**concatenation `+`**"
      ]
    },
    {
      "cell_type": "code",
      "execution_count": 3,
      "id": "1b8c472f",
      "metadata": {
        "id": "1b8c472f",
        "outputId": "286f6aa4-e03e-42ff-8edb-beebefb99fed",
        "colab": {
          "base_uri": "https://localhost:8080/",
          "height": 35
        }
      },
      "outputs": [
        {
          "output_type": "execute_result",
          "data": {
            "text/plain": [
              "'Hello world!Goodbye world!'"
            ],
            "application/vnd.google.colaboratory.intrinsic+json": {
              "type": "string"
            }
          },
          "metadata": {},
          "execution_count": 3
        }
      ],
      "source": [
        "string1 = \"Hello world!\"\n",
        "string2 = 'Goodbye world!'\n",
        "\n",
        "string1 + string2"
      ]
    },
    {
      "cell_type": "code",
      "execution_count": null,
      "id": "6d02ece1",
      "metadata": {
        "colab": {
          "base_uri": "https://localhost:8080/",
          "height": 56
        },
        "id": "6d02ece1",
        "outputId": "89fd11f3-0e94-4420-e223-164b7a16d7bd"
      },
      "outputs": [
        {
          "output_type": "execute_result",
          "data": {
            "text/plain": [
              "'Hello world!Goodbye world! Hello again!'"
            ],
            "application/vnd.google.colaboratory.intrinsic+json": {
              "type": "string"
            }
          },
          "metadata": {},
          "execution_count": 17
        }
      ],
      "source": [
        "string1 + string2 + ' Hello again!'"
      ]
    },
    {
      "cell_type": "code",
      "execution_count": null,
      "id": "ffb4dd10",
      "metadata": {
        "colab": {
          "base_uri": "https://localhost:8080/"
        },
        "id": "ffb4dd10",
        "outputId": "c634cd74-d177-409b-9d31-175051c18b58"
      },
      "outputs": [
        {
          "output_type": "stream",
          "name": "stdout",
          "text": [
            "Hello world!Goodbye world! Hello again!\n"
          ]
        }
      ],
      "source": [
        "print(string1 + string2 + ' Hello again!')"
      ]
    },
    {
      "cell_type": "markdown",
      "id": "e65c547f",
      "metadata": {
        "id": "e65c547f"
      },
      "source": [
        "**repetition `*`**"
      ]
    },
    {
      "cell_type": "code",
      "execution_count": null,
      "id": "c7f6ce3c",
      "metadata": {
        "colab": {
          "base_uri": "https://localhost:8080/",
          "height": 56
        },
        "id": "c7f6ce3c",
        "outputId": "62eaef72-a794-4392-b3b1-cd0547070001"
      },
      "outputs": [
        {
          "output_type": "execute_result",
          "data": {
            "text/plain": [
              "'Hello world!Hello world!'"
            ],
            "application/vnd.google.colaboratory.intrinsic+json": {
              "type": "string"
            }
          },
          "metadata": {},
          "execution_count": 19
        }
      ],
      "source": [
        "string1 * 2"
      ]
    },
    {
      "cell_type": "code",
      "execution_count": 4,
      "id": "b489cdeb",
      "metadata": {
        "id": "b489cdeb",
        "outputId": "63e9a119-6390-4357-cd18-ec80939e4dda",
        "colab": {
          "base_uri": "https://localhost:8080/"
        }
      },
      "outputs": [
        {
          "output_type": "stream",
          "name": "stdout",
          "text": [
            "Hello world!\n",
            "Hello world!\n",
            "Hello world!\n",
            "Hello world!\n",
            "Hello world!\n",
            "\n"
          ]
        }
      ],
      "source": [
        "# '\\n' moves to the next line (like hitting the return button)\n",
        "print((string1 + '\\n') * 5)"
      ]
    },
    {
      "cell_type": "markdown",
      "id": "1eb2f0fb",
      "metadata": {
        "id": "1eb2f0fb"
      },
      "source": [
        "**subsetting a string**"
      ]
    },
    {
      "cell_type": "code",
      "source": [
        "# extract the third through sixth characters\n",
        "string1[2:6]"
      ],
      "metadata": {
        "colab": {
          "base_uri": "https://localhost:8080/",
          "height": 56
        },
        "id": "nkXx_V8u4rhF",
        "outputId": "bca4bda5-2526-4989-fcfb-27d1c3af0360"
      },
      "id": "nkXx_V8u4rhF",
      "execution_count": null,
      "outputs": [
        {
          "output_type": "execute_result",
          "data": {
            "text/plain": [
              "'llo '"
            ],
            "application/vnd.google.colaboratory.intrinsic+json": {
              "type": "string"
            }
          },
          "metadata": {},
          "execution_count": 25
        }
      ]
    },
    {
      "cell_type": "code",
      "execution_count": null,
      "id": "f920bead",
      "metadata": {
        "id": "f920bead"
      },
      "outputs": [],
      "source": [
        "# extract the first 2 characters\n",
        "print(string1[0:2])\n",
        "print(string1[:2])\n",
        "\n",
        "# string1[0:2] == string1[:2]"
      ]
    },
    {
      "cell_type": "code",
      "execution_count": null,
      "id": "02395bc2",
      "metadata": {
        "id": "02395bc2"
      },
      "outputs": [],
      "source": [
        "# extract the last 2 characters\n",
        "string1[-2:]"
      ]
    },
    {
      "cell_type": "code",
      "execution_count": null,
      "id": "11b5f9fe",
      "metadata": {
        "id": "11b5f9fe"
      },
      "outputs": [],
      "source": [
        "string1.startswith('o')"
      ]
    },
    {
      "cell_type": "code",
      "execution_count": null,
      "id": "bfe6abad",
      "metadata": {
        "id": "bfe6abad"
      },
      "outputs": [],
      "source": [
        "string1.endswith('!')"
      ]
    },
    {
      "cell_type": "markdown",
      "id": "2b532933",
      "metadata": {
        "id": "2b532933"
      },
      "source": [
        "**Python strings are *immutable* - cannot reassign elements**"
      ]
    },
    {
      "cell_type": "code",
      "source": [
        "st"
      ],
      "metadata": {
        "id": "-I_dNh8k5XLS",
        "outputId": "079890cf-aafa-4226-ba4c-e5689af93af2",
        "colab": {
          "base_uri": "https://localhost:8080/",
          "height": 179
        }
      },
      "id": "-I_dNh8k5XLS",
      "execution_count": 5,
      "outputs": [
        {
          "output_type": "error",
          "ename": "NameError",
          "evalue": "name 'st' is not defined",
          "traceback": [
            "\u001b[0;31m---------------------------------------------------------------------------\u001b[0m",
            "\u001b[0;31mNameError\u001b[0m                                 Traceback (most recent call last)",
            "\u001b[0;32m<ipython-input-5-235690c2c180>\u001b[0m in \u001b[0;36m<cell line: 1>\u001b[0;34m()\u001b[0m\n\u001b[0;32m----> 1\u001b[0;31m \u001b[0mst\u001b[0m\u001b[0;34m\u001b[0m\u001b[0;34m\u001b[0m\u001b[0m\n\u001b[0m",
            "\u001b[0;31mNameError\u001b[0m: name 'st' is not defined"
          ]
        }
      ]
    },
    {
      "cell_type": "code",
      "execution_count": 6,
      "id": "3eeaf3a4",
      "metadata": {
        "id": "3eeaf3a4",
        "outputId": "7d92c268-fc42-45db-dc9f-46ac7b054a4d",
        "colab": {
          "base_uri": "https://localhost:8080/",
          "height": 179
        }
      },
      "outputs": [
        {
          "output_type": "error",
          "ename": "TypeError",
          "evalue": "'str' object does not support item assignment",
          "traceback": [
            "\u001b[0;31m---------------------------------------------------------------------------\u001b[0m",
            "\u001b[0;31mTypeError\u001b[0m                                 Traceback (most recent call last)",
            "\u001b[0;32m<ipython-input-6-85b57f022a0c>\u001b[0m in \u001b[0;36m<cell line: 1>\u001b[0;34m()\u001b[0m\n\u001b[0;32m----> 1\u001b[0;31m \u001b[0mstring1\u001b[0m\u001b[0;34m[\u001b[0m\u001b[0;36m0\u001b[0m\u001b[0;34m]\u001b[0m \u001b[0;34m=\u001b[0m \u001b[0;34m'Y'\u001b[0m\u001b[0;34m\u001b[0m\u001b[0;34m\u001b[0m\u001b[0m\n\u001b[0m",
            "\u001b[0;31mTypeError\u001b[0m: 'str' object does not support item assignment"
          ]
        }
      ],
      "source": [
        "string1[0] = 'Y'"
      ]
    },
    {
      "cell_type": "markdown",
      "id": "74ab041a",
      "metadata": {
        "id": "74ab041a"
      },
      "source": [
        "## Comparison Operators\n",
        "\n",
        "comparisons are questions and return boolean values"
      ]
    },
    {
      "cell_type": "markdown",
      "id": "223926d9",
      "metadata": {
        "id": "223926d9"
      },
      "source": [
        "**equality `==`**"
      ]
    },
    {
      "cell_type": "code",
      "execution_count": null,
      "id": "238eba4f",
      "metadata": {
        "id": "238eba4f"
      },
      "outputs": [],
      "source": [
        "# numeric\n",
        "25 == 4**2 + 9"
      ]
    },
    {
      "cell_type": "code",
      "execution_count": null,
      "id": "bebcc082",
      "metadata": {
        "id": "bebcc082"
      },
      "outputs": [],
      "source": [
        "# string\n",
        "string1 == string2"
      ]
    },
    {
      "cell_type": "markdown",
      "id": "bd41f67a",
      "metadata": {
        "id": "bd41f67a"
      },
      "source": [
        "**inequality `!=`**"
      ]
    },
    {
      "cell_type": "code",
      "execution_count": null,
      "id": "3f493f41",
      "metadata": {
        "id": "3f493f41"
      },
      "outputs": [],
      "source": [
        "# numeric\n",
        "25 != 20 + 6"
      ]
    },
    {
      "cell_type": "code",
      "execution_count": null,
      "id": "d3dcab60",
      "metadata": {
        "id": "d3dcab60"
      },
      "outputs": [],
      "source": [
        "# string\n",
        "string1 != string2"
      ]
    },
    {
      "cell_type": "markdown",
      "id": "85b81fc4",
      "metadata": {
        "id": "85b81fc4"
      },
      "source": [
        "**greater than `>`, less than `<`**"
      ]
    },
    {
      "cell_type": "code",
      "execution_count": null,
      "id": "66ae66a2",
      "metadata": {
        "id": "66ae66a2"
      },
      "outputs": [],
      "source": [
        "20 > 10"
      ]
    },
    {
      "cell_type": "code",
      "execution_count": null,
      "id": "cbc90b9f",
      "metadata": {
        "id": "cbc90b9f"
      },
      "outputs": [],
      "source": [
        "2*10 >= 20"
      ]
    },
    {
      "cell_type": "code",
      "execution_count": null,
      "id": "c9dc02ef",
      "metadata": {
        "id": "c9dc02ef"
      },
      "outputs": [],
      "source": [
        "3%5 < 6%5"
      ]
    },
    {
      "cell_type": "code",
      "execution_count": null,
      "id": "822d153c",
      "metadata": {
        "id": "822d153c"
      },
      "outputs": [],
      "source": [
        "-3 <= 0"
      ]
    },
    {
      "cell_type": "markdown",
      "id": "df67456e",
      "metadata": {
        "id": "df67456e"
      },
      "source": [
        "## Object ID\n",
        "\n",
        "Every variable created in Python is given a unique ID.\n",
        "\n",
        "This ID where the variable is stored in memory. The ID is for the variable, not the variable's value.\n",
        "\n",
        "> Exception: if the number is between -5 - 256 or a simple string with no spaces, it will not be given a unique id for memory optimization purposes\n",
        "\n",
        "We can find an object's ID using `id()`"
      ]
    },
    {
      "cell_type": "code",
      "execution_count": null,
      "id": "a2e0fa0b",
      "metadata": {
        "id": "a2e0fa0b"
      },
      "outputs": [],
      "source": [
        "a = 278"
      ]
    },
    {
      "cell_type": "code",
      "execution_count": null,
      "id": "015e463c",
      "metadata": {
        "id": "015e463c"
      },
      "outputs": [],
      "source": [
        "b = 278"
      ]
    },
    {
      "cell_type": "code",
      "execution_count": null,
      "id": "98300a13",
      "metadata": {
        "id": "98300a13"
      },
      "outputs": [],
      "source": [
        "print(id(a))\n",
        "print(id(b))"
      ]
    },
    {
      "cell_type": "code",
      "execution_count": null,
      "id": "5608f8f6",
      "metadata": {
        "id": "5608f8f6"
      },
      "outputs": [],
      "source": [
        "a == b # 278 = 278"
      ]
    },
    {
      "cell_type": "code",
      "execution_count": null,
      "id": "7509da98",
      "metadata": {
        "id": "7509da98"
      },
      "outputs": [],
      "source": [
        "id(a) == id(b)"
      ]
    },
    {
      "cell_type": "markdown",
      "id": "6bc15d1a",
      "metadata": {
        "id": "6bc15d1a"
      },
      "source": [
        "## Logical Operators"
      ]
    },
    {
      "cell_type": "markdown",
      "id": "0852b502",
      "metadata": {
        "id": "0852b502"
      },
      "source": [
        "**conjunctions `and`, `or`, `not`**\n",
        "\n",
        "Note that we group comparisons with parentheses"
      ]
    },
    {
      "cell_type": "code",
      "execution_count": null,
      "id": "94c739af",
      "metadata": {
        "id": "94c739af"
      },
      "outputs": [],
      "source": [
        "x = 10\n",
        "\n",
        "(x % 10 == 0) or (x < -1)"
      ]
    },
    {
      "cell_type": "code",
      "execution_count": null,
      "id": "c965353f",
      "metadata": {
        "id": "c965353f"
      },
      "outputs": [],
      "source": [
        "(x % 10 == 0) and (x < -1)"
      ]
    },
    {
      "cell_type": "code",
      "execution_count": null,
      "id": "0a5c8923",
      "metadata": {
        "id": "0a5c8923"
      },
      "outputs": [],
      "source": [
        "not x == 5"
      ]
    },
    {
      "cell_type": "markdown",
      "id": "2b2c6385",
      "metadata": {
        "id": "2b2c6385"
      },
      "source": [
        "**Identity `is`**\n",
        "\n",
        "The `is` keyword is used to test if two variables refer to the same object.\n",
        "\n",
        "The test returns `True` if the two objects are the same object.\n",
        "\n",
        "The test returns False if they are not the same object, even if the two objects are 100% equal.\n",
        "\n",
        "Use the `==` operator to test if two variables are equal.\n",
        "\n",
        "-- from [W3Schools on Identity Operators](https://www.w3schools.com/python/gloss_python_identity_operators.asp)"
      ]
    },
    {
      "cell_type": "code",
      "execution_count": null,
      "id": "1fffb03e",
      "metadata": {
        "id": "1fffb03e"
      },
      "outputs": [],
      "source": [
        "x = ['apple', 'banana']\n",
        "y = ['apple', 'banana']\n",
        "z = x"
      ]
    },
    {
      "cell_type": "code",
      "execution_count": null,
      "id": "7d1c3a7c",
      "metadata": {
        "id": "7d1c3a7c"
      },
      "outputs": [],
      "source": [
        "x is z"
      ]
    },
    {
      "cell_type": "code",
      "execution_count": null,
      "id": "3ad78cc4",
      "metadata": {
        "id": "3ad78cc4"
      },
      "outputs": [],
      "source": [
        "x is y"
      ]
    },
    {
      "cell_type": "code",
      "execution_count": null,
      "id": "98ea6ee2",
      "metadata": {
        "id": "98ea6ee2"
      },
      "outputs": [],
      "source": [
        "x == y"
      ]
    },
    {
      "cell_type": "code",
      "execution_count": null,
      "id": "c652f2de",
      "metadata": {
        "id": "c652f2de"
      },
      "outputs": [],
      "source": [
        "x == z"
      ]
    },
    {
      "cell_type": "markdown",
      "id": "47f381d0",
      "metadata": {
        "id": "47f381d0"
      },
      "source": [
        "**`isinstance()`**\n",
        "\n",
        "function returns `True` if the specified object is of the specified type, otherwise `False`"
      ]
    },
    {
      "cell_type": "code",
      "execution_count": 8,
      "id": "fc6373f1",
      "metadata": {
        "id": "fc6373f1",
        "outputId": "f4bd0e09-edd2-49db-c7ae-477a00257819",
        "colab": {
          "base_uri": "https://localhost:8080/"
        }
      },
      "outputs": [
        {
          "output_type": "execute_result",
          "data": {
            "text/plain": [
              "True"
            ]
          },
          "metadata": {},
          "execution_count": 8
        }
      ],
      "source": [
        "#example\n",
        "\n",
        "isinstance(\"Hello\", (float, int, str))"
      ]
    },
    {
      "cell_type": "code",
      "execution_count": null,
      "id": "ffc578d5",
      "metadata": {
        "id": "ffc578d5"
      },
      "outputs": [],
      "source": [
        "#example\n",
        "isinstance(\"Hello\", int)"
      ]
    },
    {
      "cell_type": "markdown",
      "id": "eac52c21",
      "metadata": {
        "id": "eac52c21"
      },
      "source": [
        "## Unary Operators\n",
        "\n",
        "Python offers a short-cut for most operators. When updating a variable with an operation to that variable, such as:\n",
        "```python\n",
        "my_var = my_var + 1  # Incrementing\n",
        "```\n",
        "\n",
        "You can do this:\n",
        "```python\n",
        "my_var += 1\n",
        "```"
      ]
    },
    {
      "cell_type": "markdown",
      "id": "52ffc918",
      "metadata": {
        "id": "52ffc918"
      },
      "source": [
        "Python supports many operators this way. Here are some:\n",
        "```python\n",
        "a -= a\n",
        "a \\= a\n",
        "a \\\\= a\n",
        "a %= a\n",
        "a *= a\n",
        "a **= a\n",
        "```"
      ]
    },
    {
      "cell_type": "markdown",
      "id": "aa92ce5d",
      "metadata": {
        "id": "aa92ce5d"
      },
      "source": [
        "## Expressions\n",
        "\n",
        "Variables, literal values, and operators are the building blocks of expressions.\n",
        "\n",
        "For example, the following combines three operators and four variables:"
      ]
    },
    {
      "cell_type": "code",
      "execution_count": null,
      "id": "5058a10b",
      "metadata": {
        "id": "5058a10b"
      },
      "outputs": [],
      "source": [
        "1 + 2 * 3 / 2"
      ]
    },
    {
      "cell_type": "markdown",
      "id": "bb74c18b",
      "metadata": {
        "id": "bb74c18b"
      },
      "source": [
        "Python employs **operator precedence** when evaluating expressions:\n",
        "\n",
        "```\n",
        "P – Parentheses\n",
        "E – Exponentiation\n",
        "M – Multiplication\n",
        "D – Division\n",
        "A – Addition\n",
        "S – Subtraction\n",
        "```"
      ]
    },
    {
      "cell_type": "code",
      "execution_count": null,
      "id": "febc7986",
      "metadata": {
        "id": "febc7986"
      },
      "outputs": [],
      "source": [
        "(1 + 2) * (3 / 2)"
      ]
    },
    {
      "cell_type": "markdown",
      "id": "fa23e2ea",
      "metadata": {
        "id": "fa23e2ea"
      },
      "source": [
        "Variables and literal values can be combined:"
      ]
    },
    {
      "cell_type": "code",
      "execution_count": 10,
      "id": "775ccb3e",
      "metadata": {
        "id": "775ccb3e"
      },
      "outputs": [],
      "source": [
        "y = 5\n",
        "m = 2.5\n",
        "b = 10"
      ]
    },
    {
      "cell_type": "code",
      "execution_count": 11,
      "id": "f249f060",
      "metadata": {
        "id": "f249f060",
        "outputId": "b4d28fa2-d1ca-4127-d267-aa3134a9f174",
        "colab": {
          "base_uri": "https://localhost:8080/"
        }
      },
      "outputs": [
        {
          "output_type": "execute_result",
          "data": {
            "text/plain": [
              "35.0"
            ]
          },
          "metadata": {},
          "execution_count": 11
        }
      ],
      "source": [
        "y = m * 10 + b\n",
        "y"
      ]
    },
    {
      "cell_type": "code",
      "execution_count": null,
      "id": "cd446cc6",
      "metadata": {
        "id": "cd446cc6"
      },
      "outputs": [],
      "source": [
        "y = m * 5 + b\n",
        "y"
      ]
    },
    {
      "cell_type": "markdown",
      "id": "fe3afbe8",
      "metadata": {
        "id": "fe3afbe8"
      },
      "source": [
        "Expresssions can be very complex.\n",
        "\n",
        "Expressions evaluate to a value, just as single variables do.\n",
        "\n",
        "Therefore, they can be put anywhere a value is accepted."
      ]
    },
    {
      "cell_type": "code",
      "execution_count": null,
      "id": "5ef7fe16",
      "metadata": {
        "id": "5ef7fe16"
      },
      "outputs": [],
      "source": [
        "int((y + 10) ** 8)"
      ]
    },
    {
      "cell_type": "code",
      "execution_count": null,
      "id": "7e1279ab",
      "metadata": {
        "id": "7e1279ab"
      },
      "outputs": [],
      "source": [
        "fruit = [\"apples\", \"magoes\",\"bananas\",\"blueberries\"]\n",
        "\n",
        "def find_fruit(fruit):\n",
        "  for f in fruit:\n",
        "    if == \"mangoes\"\n",
        "      print(\"Hooray! I found mangoes.\")\n",
        "    else:\n",
        "      print (\"No mangoes heere.\")\n",
        "\n",
        "find_fruit(fruit)\n",
        ""
      ]
    }
  ],
  "metadata": {
    "kernelspec": {
      "display_name": "base",
      "language": "python",
      "name": "python3"
    },
    "language_info": {
      "codemirror_mode": {
        "name": "ipython",
        "version": 3
      },
      "file_extension": ".py",
      "mimetype": "text/x-python",
      "name": "python",
      "nbconvert_exporter": "python",
      "pygments_lexer": "ipython3",
      "version": "3.9.12"
    },
    "vscode": {
      "interpreter": {
        "hash": "256476f871f41dd9f410a4535ba940f788da543573a25285757e797fedf9c871"
      }
    },
    "colab": {
      "provenance": [],
      "include_colab_link": true
    }
  },
  "nbformat": 4,
  "nbformat_minor": 5
}