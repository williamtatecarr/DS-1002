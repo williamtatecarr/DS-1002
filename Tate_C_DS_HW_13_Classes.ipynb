{
  "nbformat": 4,
  "nbformat_minor": 0,
  "metadata": {
    "colab": {
      "provenance": [],
      "include_colab_link": true
    },
    "kernelspec": {
      "name": "python3",
      "display_name": "Python 3"
    },
    "language_info": {
      "name": "python"
    }
  },
  "cells": [
    {
      "cell_type": "markdown",
      "metadata": {
        "id": "view-in-github",
        "colab_type": "text"
      },
      "source": [
        "<a href=\"https://colab.research.google.com/github/williamtatecarr/DS-1002/blob/main/Tate_C_DS_HW_13_Classes.ipynb\" target=\"_parent\"><img src=\"https://colab.research.google.com/assets/colab-badge.svg\" alt=\"Open In Colab\"/></a>"
      ]
    },
    {
      "cell_type": "markdown",
      "source": [
        "## Assignment:  Classes\n",
        "### Due Sunday 28 April at 10pm"
      ],
      "metadata": {
        "id": "5Vy93BSp9Tum"
      }
    },
    {
      "cell_type": "markdown",
      "source": [
        "1.  Define a class called `Person` that has attributes `lastName`, `firstName`, `mother`, and `father`.  Both `mother` and `father` should have default value `unknown`.\n",
        "\n",
        "  Include a `__str__()` function that returns a string of the form '`firstName` `lastName`'.\n",
        "\n",
        "  Include a `__repr__()` function that returns a string that can be evaluated to recreate the `Person` object.\n",
        "\n"
      ],
      "metadata": {
        "id": "vcj5XQAI9Wsb"
      }
    },
    {
      "cell_type": "code",
      "source": [
        "class Person:\n",
        "    def __init__(person, lastName, firstName, father='unknown', mother='unknown'):\n",
        "        person.lastName = lastName\n",
        "        person.firstName = firstName\n",
        "        person.mother = mother\n",
        "        person.father = father\n",
        "    def __str__(person):\n",
        "        return f'{person.firstName} {person.lastName}'\n",
        "    def __repr__(person):\n",
        "        return f\"Person('{person.lastName}','{person.firstName}','{person.father}','{person.mother}')\""
      ],
      "metadata": {
        "id": "mjHDwHv3EpVe"
      },
      "execution_count": null,
      "outputs": []
    },
    {
      "cell_type": "markdown",
      "source": [
        "Create a person (i.e., a `Person` object) called `p` with unknown parents.  \n",
        "\n",
        "---\n",
        "\n",
        "(You will need to give your person a first and last name.) Check the type of `p`.  Include all inputs and outputs."
      ],
      "metadata": {
        "id": "-ppMsEIVHINl"
      }
    },
    {
      "cell_type": "code",
      "source": [
        "p = Person('Carr', 'Tate')\n",
        "print(type(p))"
      ],
      "metadata": {
        "id": "5bwid_6gHIBH",
        "outputId": "af3aa265-9fdd-4220-ab76-064c13043839",
        "colab": {
          "base_uri": "https://localhost:8080/"
        }
      },
      "execution_count": null,
      "outputs": [
        {
          "output_type": "stream",
          "name": "stdout",
          "text": [
            "<class '__main__.Person'>\n"
          ]
        }
      ]
    },
    {
      "cell_type": "markdown",
      "source": [
        "*Verify* that your `__str__` and `__repr__` functions are doing what they are supposed to do.  Include all inputs and outputs."
      ],
      "metadata": {
        "id": "Z6zlUC3xRtal"
      }
    },
    {
      "cell_type": "code",
      "source": [
        "Person1 = Person('Abrams', 'Aaron')\n",
        "print(str(Person1))\n",
        "print(repr(Person1))"
      ],
      "metadata": {
        "id": "jZO0dBQYRs-K",
        "outputId": "3688cd1a-8c0e-4ae5-fdc7-9a0e4c819f01",
        "colab": {
          "base_uri": "https://localhost:8080/"
        }
      },
      "execution_count": null,
      "outputs": [
        {
          "output_type": "stream",
          "name": "stdout",
          "text": [
            "Aaron Abrams\n",
            "Person('Abrams','Aaron','unknown','unknown')\n"
          ]
        }
      ]
    },
    {
      "cell_type": "markdown",
      "source": [
        "Suppose the mother of `p` has been found and is named Taylor Swift.  Create a\n",
        "\n",
        "*   List item\n",
        "*   List item\n",
        "\n",
        "new person named Taylor Swift, and make her the mother of `p`:\n",
        "\n",
        "```\n",
        "> p.mother\n",
        "'Taylor Swift'\n",
        "```"
      ],
      "metadata": {
        "id": "1mOAThQiHzoQ"
      }
    },
    {
      "cell_type": "code",
      "source": [
        "p.mother = Person('Swift', 'Taylor')\n",
        "print(p.mother)"
      ],
      "metadata": {
        "id": "NYbDOorpHymz",
        "outputId": "d898cce0-2102-43ee-82c7-014fac2e3744",
        "colab": {
          "base_uri": "https://localhost:8080/"
        }
      },
      "execution_count": null,
      "outputs": [
        {
          "output_type": "stream",
          "name": "stdout",
          "text": [
            "Taylor Swift\n"
          ]
        }
      ]
    },
    {
      "cell_type": "markdown",
      "source": [
        "2.  Add some methods to your class.  Start by copying the `class` definition you already wrote.  Then, inside the `class` definition:\n",
        "\n",
        "  (a) Write a method called `unknownParent()` which returns `True` if any parent is 'unknown' and `False` otherwise.\n",
        "\n",
        "  (b) Write a method called `maternalGrandmother()` which returns the mother's mother.  If the mother is unknown, it should return 'unknown'.\n",
        "\n"
      ],
      "metadata": {
        "id": "1g1pcrmFHzGh"
      }
    },
    {
      "cell_type": "code",
      "source": [
        "class Person:\n",
        "    def __init__(person, lastName, firstName, father='unknown', mother='unknown'):\n",
        "        person.lastName = lastName\n",
        "        person.firstName = firstName\n",
        "        person.mother = mother\n",
        "        person.father = father\n",
        "    def __str__(person):\n",
        "        return f'{person.firstName} {person.lastName}'\n",
        "    def __repr__(person):\n",
        "        return f\"Person('{person.lastName}','{person.firstName}','{person.father}','{person.mother}')\"\n",
        "    def unknownParent(person):\n",
        "        return person.mother == 'unknown' or person.father == 'unknown'\n",
        "    def maternalGrandmother(person):\n",
        "        if person.mother == 'unknown':\n",
        "            return 'unknown'\n",
        "        else:\n",
        "            return f\"{person.mother} Sr.\" #creates mother's mother adding Sr. to mother's name"
      ],
      "metadata": {
        "id": "oTqgMPkzOo3o"
      },
      "execution_count": null,
      "outputs": []
    },
    {
      "cell_type": "markdown",
      "source": [
        "Create enough `Person` objects to test whether your methods are working\n",
        "\n",
        "1.   List item\n",
        "2.   List item\n",
        "\n",
        "properly.  Show all your inputs and outputs.  It is up to you to demonstrate that you have thoroughly tested the code.  You may use additional code and/or text chunks if it helps."
      ],
      "metadata": {
        "id": "l9-4gxd8FxAQ"
      }
    },
    {
      "cell_type": "code",
      "source": [
        "person1 = Person('Ryan', 'Jim', 'Big Jim', 'Jimane')\n",
        "person2 = Person('Jefferson', 'Thomas', 'unknown', 'Mrs. Jefferson')\n",
        "person3 = Person('Poe', 'Edgar', 'Edouard', 'unknown')\n",
        "person4 = Person('Fey', 'Tina', 'unknown', 'unknown')\n",
        "\n",
        "#testing unknownParent:\n",
        "print(person1.unknownParent()) #False because both parents are know with Big Jim and Jimane\n",
        "print(person2.unknownParent()) #True because father is unknown\n",
        "print(person3.unknownParent()) #True because mother is unkown\n",
        "print(person4.unknownParent()) #True because both are unkown\n",
        "\n",
        "#testing maternalGrandmother:\n",
        "print(person1.maternalGrandmother()) #returns Jimane Sr. because mother is known so we create grandmother by adding Sr. to mothers name\n",
        "print(person2.maternalGrandmother()) #same as up\n",
        "print(person3.maternalGrandmother()) #unkown for last 2 because mother is unkown\n",
        "print(person4.maternalGrandmother())"
      ],
      "metadata": {
        "id": "xOISfSOTQRB1",
        "outputId": "a2fe579b-ac5e-4c42-d9fa-eb431b001e53",
        "colab": {
          "base_uri": "https://localhost:8080/"
        }
      },
      "execution_count": null,
      "outputs": [
        {
          "output_type": "stream",
          "name": "stdout",
          "text": [
            "False\n",
            "True\n",
            "True\n",
            "True\n",
            "Jimane Sr.\n",
            "Mrs. Jefferson Sr.\n",
            "unknown\n",
            "unknown\n"
          ]
        }
      ]
    }
  ]
}