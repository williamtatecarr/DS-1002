{
  "cells": [
    {
      "cell_type": "markdown",
      "metadata": {
        "id": "view-in-github",
        "colab_type": "text"
      },
      "source": [
        "<a href=\"https://colab.research.google.com/github/williamtatecarr/DS-1002/blob/main/10_Bulls_Cows.ipynb\" target=\"_parent\"><img src=\"https://colab.research.google.com/assets/colab-badge.svg\" alt=\"Open In Colab\"/></a>"
      ]
    },
    {
      "cell_type": "code",
      "source": [
        "# List group members (if applicable). Identify names and computing IDs\n",
        "#\n",
        "# Name Maximus McGinnis                    Computing ID spj5ya"
      ],
      "metadata": {
        "id": "5a-nH7Fa1RmI"
      },
      "execution_count": null,
      "outputs": []
    },
    {
      "cell_type": "markdown",
      "metadata": {
        "id": "lSwr8T3SNrkj"
      },
      "source": [
        "## Bulls and Cows:\n",
        "### Another guessing game.\n",
        "### Assignment due Wednesday 10 April at 10 am\n",
        "\n",
        "General instructions:\n",
        "\n",
        "1. You may work in teams of up to three people.  As usual, if you do this, make sure all names are clearly displayed at the top of your submission, and all team members should submit the same GitHub URL.\n",
        "\n",
        "1. Use only basic Python code.  Do not use `numpy` arrays or functions.\n",
        "\n",
        "2. Practice utilizing the coding concepts we have studied.  \n",
        "\n",
        "3. Write docstrings for all your functions.\n",
        "\n"
      ]
    },
    {
      "cell_type": "markdown",
      "metadata": {
        "id": "qrWRyeI2NwHA"
      },
      "source": [
        "### Goal:  program this game\n",
        "In this assignment you will program a version of an old game called Bulls and Cows.  It is somewhat similar to Wordle, but with numbers instead of words (and various other differences . . . read carefully!).\n",
        "\n",
        "The game is played like this:  \n",
        "1. The computer will choose a secret code that the player is trying to guess.\n",
        "2. The secret code will be 4 digits long.  It will use only the digits 1-6, and it will have no repeated digits.  For example the secret code might be 1326 or 6241 but it cannot be 2652 or 4913 or 2601.\n",
        "3. The computer will prompt the user for a guess, and the user will guess.  The guess must follow the same rules (4 digits long, only use digits 1-6, no repeats).  The program should not allow an invalid guess.\n",
        "4. After each guess, the computer will give feedback to the user as follows:  \n",
        "(i) Each digit of the guess that is in the secret code and in the correct position is called a Bull (B).  \n",
        "(ii) Each digit of the guess that exists somewhere in the secret code, but *not* in the same position as in the guess, is called a Cow (C).  \n",
        "(iii) A digit of the guess that doesn't occur anywhere in the secret code is called a miss (X).  \n",
        "The computer will inform the user how many Bulls, how many Cows, and how many misses the user's guess had.  \n",
        "The feedback will always start with B's, then list C's, then list X's.  \n",
        "For example if the secret code is 1326  \n",
        "and the guess is 4316  \n",
        "then the computer should respond with \"BBCX\"  \n",
        "because there are two Bulls (the 3 and the 6 are Bulls, because they occur in the same position in the guess as in the secret code),  \n",
        "one Cow (the 1, which is a correct digit but in the wrong position),  \n",
        "and one Miss (the 4, which does not occur anywhere in the secret code).  \n",
        "> **Important:** the feedback string should always list the Bulls first, then the Cows, then the Misses.  It should **not** tell the user which digits are which!  The only information in the feedback string is how many of each there are.  In the example above, for instance, the feedback is **not** \"XBCB\" but rather \"BBCX\".  This is different from Wordle, if you are familiar with that game.\n",
        "5. The user should then be prompted for another guess.  This guess-with-feedback process should be repeated until the user gets the correct code, at which point the computer should indicate that they have won the game.  However, the user should only be allowed 6 guesses; if they don't guess correctly in 6 attempts, then following the feedback from their final guess they should get a message that they have lost the game, and the secret code should be revealed.\n",
        "\n",
        "\n",
        "\n",
        "\n",
        "\n",
        "\n",
        "\n"
      ]
    },
    {
      "cell_type": "markdown",
      "source": [
        "### Steps\n",
        "We will build this game using several functions.  \n",
        "\n",
        "1. **Count the Bulls:**  \n",
        "Write a function that takes two lists of the same length, and returns the number of Bulls.  That is, it should return the number of indices where the lists contain the same element.  *(Note:  you don't have to check that the entries are between 1 and 6, or that there are no repeats, etc.  A different function will do that.)*\n",
        "\n",
        "> A sample run might look like\n",
        "```\n",
        "first = [11, 3, 17, 5, 1]\n",
        "second = [20, 2, 17, 3, 1]\n",
        "count_bulls(first,second)\n",
        "```\n",
        "```\n",
        " 2\n",
        "```\n"
      ],
      "metadata": {
        "id": "XSH1JULaurD1"
      }
    },
    {
      "cell_type": "markdown",
      "source": [
        "Define your function in the code chunk below.  The function definition command and the return command are pre-populated for you.  You just have to fill in the part which does the actual counting.  I recommend using a list comprehension to do this.\n"
      ],
      "metadata": {
        "id": "pXoOyBk7xmPa"
      }
    },
    {
      "cell_type": "code",
      "source": [
        "first = [11, 3, 17, 5, 1]\n",
        "second = [20, 2, 17, 3, 1]\n",
        "def count_bulls(first, second):\n",
        "  ''' Compares first list to the second list, and returns the number of elements that appear and are in the same position in both.'''\n",
        "  count_bulls = 0\n",
        "  for x in range(len(first)):\n",
        "      if first[x] == second[x]:\n",
        "            count_bulls += 1\n",
        "  return count_bulls"
      ],
      "metadata": {
        "id": "4Z7A7PkwlaWb"
      },
      "execution_count": 144,
      "outputs": []
    },
    {
      "cell_type": "markdown",
      "source": [
        "Add code and/or text chunks below to demonstrate that you have tested your code and that it works correctly."
      ],
      "metadata": {
        "id": "yACJyJtOzE2U"
      }
    },
    {
      "cell_type": "code",
      "source": [
        "print(count_bulls(first, second))"
      ],
      "metadata": {
        "colab": {
          "base_uri": "https://localhost:8080/"
        },
        "id": "qEoQnGKSR5cW",
        "outputId": "c519a278-69e5-4516-f7a7-bc45be0a9500"
      },
      "execution_count": 145,
      "outputs": [
        {
          "output_type": "stream",
          "name": "stdout",
          "text": [
            "2\n"
          ]
        }
      ]
    },
    {
      "cell_type": "markdown",
      "source": [
        "2. **Count something else:**  \n",
        "To count the cows it will be helpful first to count how many of the elements occur in both strings, without paying attention their positions.\n",
        "Write a function called `count_animals` that takes two lists of the same length, and returns the number of elements of the second list that are also in the first list.  (In the game setting, each such element is either a Bull or a Cow, but don't worry about which is which for this problem.)\n",
        "You may assume the lists do not contain repeated elements, since this will be the case when the function is called in the game.\n",
        "\n",
        "> This time a sample run might look like\n",
        "```\n",
        "first = [11, 3, 17, 5, 1]\n",
        "second = [20, 2, 17, 3, 1]\n",
        "count_animals(first,second)\n",
        "```\n",
        "```\n",
        " 3\n",
        "```\n",
        "\n",
        "This one isn't started for you.  Remember to include a docstring.  This can also be done using a list comprehension, similar to the previous function.\n",
        "\n"
      ],
      "metadata": {
        "id": "aMsOmejkzNVN"
      }
    },
    {
      "cell_type": "code",
      "source": [
        "first = [11, 3, 17, 5, 1]\n",
        "second = [20, 2, 17, 3, 1]\n",
        "def count_animals(first, second):\n",
        "  ''' Compares first list to second list, and returns the number of elements that are in both as an int.'''\n",
        "  count_animals = 0\n",
        "  for x in first:\n",
        "      if x in second:\n",
        "          count_animals += 1\n",
        "  return count_animals"
      ],
      "metadata": {
        "id": "2UJ4P8sOO3Yx"
      },
      "execution_count": 146,
      "outputs": []
    },
    {
      "cell_type": "markdown",
      "source": [
        "Again, demonstrate below that you have tested your code and that it works."
      ],
      "metadata": {
        "id": "HXRNwANS2f-4"
      }
    },
    {
      "cell_type": "code",
      "source": [
        "print(count_animals(first, second))"
      ],
      "metadata": {
        "colab": {
          "base_uri": "https://localhost:8080/"
        },
        "id": "8NsglCJWM8-X",
        "outputId": "a2de13b2-cf1f-4abe-8b05-7c5ba1b12a06"
      },
      "execution_count": 147,
      "outputs": [
        {
          "output_type": "stream",
          "name": "stdout",
          "text": [
            "3\n"
          ]
        }
      ]
    },
    {
      "cell_type": "markdown",
      "source": [
        "3. **Count the cows:**  \n",
        "Write a function called `count_cows` that counts the cows.  \n",
        "> This time a sample run might look like\n",
        "```\n",
        "first = [11, 3, 17, 5, 1]\n",
        "second = [20, 2, 17, 3, 1]\n",
        "count_cows(first,second)\n",
        "```\n",
        "```\n",
        " 1\n",
        "```\n",
        "*Use the two previously defined functions to help you!  \n",
        "In fact, remember that the only reason we wrote the `count_animals` function was to help count the cows.*\n",
        "\n",
        "You can do this with only two lines of code, not counting documentation!"
      ],
      "metadata": {
        "id": "x2DAPkxj2GMo"
      }
    },
    {
      "cell_type": "code",
      "source": [
        "first = [11, 3, 17, 5, 1]\n",
        "second = [20, 2, 17, 3, 1]\n",
        "count_cows = count_animals(first, second) - count_bulls(first, second)\n",
        "print(count_cows)"
      ],
      "metadata": {
        "colab": {
          "base_uri": "https://localhost:8080/"
        },
        "id": "7O31P25YPdix",
        "outputId": "5583a4ed-fbf2-4ea2-9598-ae29e0b80408"
      },
      "execution_count": 148,
      "outputs": [
        {
          "output_type": "stream",
          "name": "stdout",
          "text": [
            "1\n"
          ]
        }
      ]
    },
    {
      "cell_type": "markdown",
      "metadata": {
        "id": "hWQhYDIVYjXr"
      },
      "source": [
        "4. **Create feedback string**  \n",
        "Write a `build_response_str` function that takes three numbers, say `b,c,l`, and outputs a string of total length `l` that consists of `b` B's, followed by `c` C's, and the rest X's (until the total length is `l`).\n",
        "\n",
        "> Sample run:\n",
        "```\n",
        "build_response_str(4,3,9)\n",
        "```\n",
        "```\n",
        "BBBBCCCXX\n",
        "```"
      ]
    },
    {
      "cell_type": "code",
      "source": [
        "def build_response_str(b, c, l):\n",
        "  ''' Compares the first list to the second list and returns a response string containing 'B' for bulls, 'C' for cows, and 'X' for the remaining length'''\n",
        "  if b + c >= l:\n",
        "      return 'B' * b + 'C' * c\n",
        "  else:\n",
        "      rl = l - b - c\n",
        "      return 'B' * b + 'C' * c + 'X' * rl"
      ],
      "metadata": {
        "id": "GSimWqUsMaPE"
      },
      "execution_count": 149,
      "outputs": []
    },
    {
      "cell_type": "markdown",
      "source": [
        "Test your code here."
      ],
      "metadata": {
        "id": "2D14kxTU7ApH"
      }
    },
    {
      "cell_type": "code",
      "source": [
        "build_response_str(4, 3, 9)"
      ],
      "metadata": {
        "id": "MmbEmX072LXL",
        "outputId": "0d557543-6b83-43cb-9fc5-219665254ca7",
        "colab": {
          "base_uri": "https://localhost:8080/",
          "height": 35
        }
      },
      "execution_count": 150,
      "outputs": [
        {
          "output_type": "execute_result",
          "data": {
            "text/plain": [
              "'BBBBCCCXX'"
            ],
            "application/vnd.google.colaboratory.intrinsic+json": {
              "type": "string"
            }
          },
          "metadata": {},
          "execution_count": 150
        }
      ]
    },
    {
      "cell_type": "markdown",
      "metadata": {
        "id": "omzE6sLKwsMC"
      },
      "source": [
        "5.  **Generate feedback for guesses**  \n",
        "Write a function `response(first,second)` that takes two lists of the same length, and outputs a string consisting of some number of B's followed by some number of C's followed by some number of X's, where the numbers correspond to the things we counted above.  That is, if `first` were the secret code in the game and `second` were the user's guess, then we would print one B for each Bull, one C for each Cow, and one X for each Miss. The total output string should have the same length as the input strings.\n",
        "\n",
        "> Sample run:\n",
        "```\n",
        "first = [11, 3, 17, 5, 1]\n",
        "second = [20, 2, 17, 3, 1]\n",
        "response(first,second)\n",
        "```\n",
        "```\n",
        " BBCXX\n",
        "```\n",
        "\n",
        "With all the functions you've already put in place, this should be simple.  Test your code once it's written.\n"
      ]
    },
    {
      "cell_type": "code",
      "source": [
        "def response(first, second):\n",
        "  ''' Returns a response string showing the bulls, cows, and misses in a guessed chain that's derivative.'''\n",
        "  return build_response_str(count_bulls(first, second), count_cows(first, second), len(first))\n"
      ],
      "metadata": {
        "id": "RD1qq7l783y5"
      },
      "execution_count": 163,
      "outputs": []
    },
    {
      "cell_type": "code",
      "source": [
        "print(response(first, second))"
      ],
      "metadata": {
        "colab": {
          "base_uri": "https://localhost:8080/"
        },
        "id": "iX2Yg_I5Sirb",
        "outputId": "98cca03c-1f98-4ebc-b816-5ed9d4f6d014"
      },
      "execution_count": 173,
      "outputs": [
        {
          "output_type": "stream",
          "name": "stdout",
          "text": [
            "BBCXX\n"
          ]
        }
      ]
    },
    {
      "cell_type": "markdown",
      "metadata": {
        "id": "LWshNPjPZJdQ"
      },
      "source": [
        "6.  **Choose the secret code**  \n",
        "The `random` package, and specifically the `sample` sub-package, is useful for generating random samples.  Try running the following lines of code several times.\n",
        "\n"
      ]
    },
    {
      "cell_type": "code",
      "source": [
        "from random import sample\n",
        "ty = sample(range(1,7),4)\n",
        "print(ty)"
      ],
      "metadata": {
        "id": "OzEZ5BQZ85jV",
        "colab": {
          "base_uri": "https://localhost:8080/"
        },
        "outputId": "ae4e24e9-1b76-4880-fbb3-84ce20c433a2"
      },
      "execution_count": 168,
      "outputs": [
        {
          "output_type": "stream",
          "name": "stdout",
          "text": [
            "[1, 5, 3, 6]\n"
          ]
        }
      ]
    },
    {
      "cell_type": "markdown",
      "source": [
        "What type of object is returned by the `sample` function?\n"
      ],
      "metadata": {
        "id": "N1BOe2Xd-kr4"
      }
    },
    {
      "cell_type": "code",
      "source": [
        "print(type(ty))"
      ],
      "metadata": {
        "id": "U5AAu9sG-slX",
        "colab": {
          "base_uri": "https://localhost:8080/"
        },
        "outputId": "a0406e09-95b6-4a4d-de89-deeea994de4d"
      },
      "execution_count": 169,
      "outputs": [
        {
          "output_type": "stream",
          "name": "stdout",
          "text": [
            "<class 'list'>\n"
          ]
        }
      ]
    },
    {
      "cell_type": "markdown",
      "source": [],
      "metadata": {
        "id": "yGZw8xFZ-uN4"
      }
    },
    {
      "cell_type": "markdown",
      "source": [
        "7. **Verify the guess**  \n",
        "Finish writing a function called `get_guess` (started below) to prompt the user for a guess and then make sure the input is valid according to the rules of the game.\n",
        "The prompt is already given.  Note that the `list` command converts the input into a list of characters so that it can be passed to the other functions (which are expecting lists).   \n",
        ">**Alert:  you will likely have to think more about data types before this is all over.**"
      ],
      "metadata": {
        "id": "mbK84TdIAVsO"
      }
    },
    {
      "cell_type": "code",
      "source": [
        "def get_guess():\n",
        "  ''' Prompts user to guess'''\n",
        "  guess = list(input(\"Enter guess:\"))\n",
        "  return guess"
      ],
      "metadata": {
        "id": "13HGg6VvBXSH"
      },
      "execution_count": 170,
      "outputs": []
    },
    {
      "cell_type": "markdown",
      "source": [
        "As usual, test your code.  What type of objects are we dealing with here?"
      ],
      "metadata": {
        "id": "PSPYpeZYONf0"
      }
    },
    {
      "cell_type": "code",
      "source": [
        "get_guess()\n",
        "#we are dealing with strings"
      ],
      "metadata": {
        "id": "ytgf6BfiOPNh",
        "colab": {
          "base_uri": "https://localhost:8080/"
        },
        "outputId": "a14e4d43-56bd-452c-e21f-8afe310a096a"
      },
      "execution_count": 171,
      "outputs": [
        {
          "name": "stdout",
          "output_type": "stream",
          "text": [
            "Enter guess:4\n"
          ]
        },
        {
          "output_type": "execute_result",
          "data": {
            "text/plain": [
              "['4']"
            ]
          },
          "metadata": {},
          "execution_count": 171
        }
      ]
    },
    {
      "cell_type": "markdown",
      "source": [
        "8. **Put it all together**  \n",
        "Finally, fill in the details of the function `bulls_cows` below so that it will play the game of Bulls and Cows when called.  Note that the function takes no arguments and returns nothing.\n"
      ],
      "metadata": {
        "id": "WdtvUrA4-uzn"
      }
    },
    {
      "cell_type": "code",
      "source": [
        "from random import sample\n",
        "def count_bulls(first, second):\n",
        "    ''' Compares first list to the second list, and returns the number of elements that appear and are in the same position in both.'''\n",
        "    count_bulls = 0\n",
        "    count_bulls = 0\n",
        "    for x in range(len(first)):\n",
        "        if first[x] == second[x]:\n",
        "            count_bulls += 1\n",
        "    return count_bulls\n",
        "def count_animals(first, second):\n",
        "    ''' Compares first list to second list, and returns the number of elements that are in both as an int.'''\n",
        "    count_animals = 0\n",
        "    for x in first:\n",
        "        if x in second:\n",
        "            count_animals += 1\n",
        "    return count_animals\n",
        "def count_cows(first, second):\n",
        "    ''' Counts the number of cows by subtracting the number of bulls from the total number of animals.'''\n",
        "    return count_animals(first, second) - count_bulls(first, second)\n",
        "def build_response_str(b, c, l):\n",
        "    if b + c >= l:\n",
        "        return 'B' * b + 'C' * c\n",
        "    else:\n",
        "        r = l - b - c\n",
        "        return 'B' * b + 'C' * c + 'X' * r\n",
        "def response(first, second):\n",
        "    ''' Returns a response string showing the bulls, cows, and misses in a guessed chain that's derivative.'''\n",
        "    return build_response_str(count_bulls(first, second), count_cows(first, second), len(first))\n",
        "def get_guess():\n",
        "    while True:\n",
        "        guess = input(\"Enter guess: \")\n",
        "        if len(guess) != 4:\n",
        "            print(\"Guess has to be 4 integers.\")\n",
        "            continue\n",
        "        if not guess.isdigit():\n",
        "            print(\"Guess can only be in integers.\")\n",
        "            cntinue\n",
        "        g = [int(digit) for digit in guess]\n",
        "        if len(set(g)) != 4:\n",
        "            print(\"Guess can't have repeated integers.\")\n",
        "            continue\n",
        "        if not all(1 <= digit <= 6 for digit in g):\n",
        "            print(\"Guess has to have integers between 1 and 6.\")\n",
        "            continue\n",
        "        return g\n",
        "def bulls_cows_game():\n",
        "    ''' Keeps index of attempted guesses, indicates to player when their attempt is not compatible, what number of valid attempts they have, when they are out of attempts, and when they have won.'''\n",
        "    answer = sample(range(1, 7), 4)\n",
        "    attempts = 0\n",
        "    while attempts < 6:\n",
        "        attempts += 1\n",
        "        guess = get_guess()\n",
        "        if guess == answer:\n",
        "            print(\"Congratulations you have guessed it!\")\n",
        "            return\n",
        "        gamefeedback = response(answer, guess)\n",
        "        print(f\"Attempt #{attempts}: {gamefeedback}\")\n",
        "\n",
        "    else:\n",
        "        print(\"You have no more attempts, but the correct answer was:\", answer)"
      ],
      "metadata": {
        "id": "ew4y-nh_erE7"
      },
      "execution_count": 180,
      "outputs": []
    },
    {
      "cell_type": "markdown",
      "source": [
        "Play the game a few times below. Make sure it behaves as you think it should!"
      ],
      "metadata": {
        "id": "Rqc6wuQbgKOv"
      }
    },
    {
      "cell_type": "code",
      "source": [
        "bulls_cows_game()"
      ],
      "metadata": {
        "colab": {
          "base_uri": "https://localhost:8080/"
        },
        "id": "p0rFvLOpcp31",
        "outputId": "3f658288-2917-42ec-d8d7-dd50f046152f"
      },
      "execution_count": 133,
      "outputs": [
        {
          "output_type": "stream",
          "name": "stdout",
          "text": [
            "Enter guess: 1231\n",
            "Guess can't have repeated integers.\n",
            "Enter guess: 4532\n",
            "Attempt 1: BCCX\n",
            "Enter guess: 2353\n",
            "Guess can't have repeated integers.\n",
            "Enter guess: 1234\n",
            "Attempt 2: BCCX\n",
            "Enter guess: 1234\n",
            "Attempt 3: BCCX\n",
            "Enter guess: 1234\n",
            "Attempt 4: BCCX\n",
            "Enter guess: 1234\n",
            "Attempt 5: BCCX\n",
            "Enter guess: 1234\n",
            "Attempt 6: BCCX\n",
            "You have no more attempts, but the correct answer was: [2, 5, 1, 4]\n"
          ]
        }
      ]
    },
    {
      "cell_type": "code",
      "source": [
        "bulls_cows_game()"
      ],
      "metadata": {
        "colab": {
          "base_uri": "https://localhost:8080/"
        },
        "id": "dw-tAslFfyKH",
        "outputId": "32deb436-c2fc-4b59-b496-b70bccb7082c"
      },
      "execution_count": 134,
      "outputs": [
        {
          "output_type": "stream",
          "name": "stdout",
          "text": [
            "Enter guess: 2341\n",
            "Attempt 1: BBXX\n",
            "Enter guess: 2421\n",
            "Guess can't have repeated integers.\n",
            "Enter guess: 2341\n",
            "Attempt 2: BBXX\n",
            "Enter guess: 3241\n",
            "Attempt 3: BBXX\n",
            "Enter guess: 5641\n",
            "Congratulations you have guessed it!\n"
          ]
        }
      ]
    },
    {
      "cell_type": "code",
      "source": [
        "bulls_cows_game()"
      ],
      "metadata": {
        "colab": {
          "base_uri": "https://localhost:8080/"
        },
        "id": "5ccN60IKgA9H",
        "outputId": "8b882ff0-11f4-473d-ca22-db41b249fc43"
      },
      "execution_count": 135,
      "outputs": [
        {
          "output_type": "stream",
          "name": "stdout",
          "text": [
            "Enter guess: 2143\n",
            "Attempt 1: CCCX\n",
            "Enter guess: 1245\n",
            "Attempt 2: CCCX\n",
            "Enter guess: 4216\n",
            "Attempt 3: CCXX\n",
            "Enter guess: 2435\n",
            "Attempt 4: CCCX\n",
            "Enter guess: 1435\n",
            "Attempt 5: CCCX\n",
            "Enter guess: 2416\n",
            "Attempt 6: CCXX\n",
            "You have no more attempts, but the correct answer was: [5, 3, 2, 1]\n"
          ]
        }
      ]
    },
    {
      "cell_type": "code",
      "source": [
        "bulls_cows_game()"
      ],
      "metadata": {
        "colab": {
          "base_uri": "https://localhost:8080/"
        },
        "id": "4hKF-FKVgrWA",
        "outputId": "8f59524a-dcd9-4ebd-9097-c38bdb16194f"
      },
      "execution_count": 137,
      "outputs": [
        {
          "output_type": "stream",
          "name": "stdout",
          "text": [
            "Enter guess: 1346\n",
            "Attempt 1: CCCX\n",
            "Enter guess: 4615\n",
            "Attempt 2: BBXX\n",
            "Enter guess: 4632\n",
            "Attempt 3: BCCX\n",
            "Enter guess: 2645\n",
            "Attempt 4: BBXX\n",
            "Enter guess: 2346\n",
            "Attempt 5: BCCX\n",
            "Enter guess: 4362\n",
            "Attempt 6: CCCX\n",
            "You have no more attempts, but the correct answer was: [2, 6, 1, 3]\n"
          ]
        }
      ]
    },
    {
      "cell_type": "code",
      "source": [
        "bulls_cows_game()"
      ],
      "metadata": {
        "colab": {
          "base_uri": "https://localhost:8080/"
        },
        "id": "kFleFaLHi5d9",
        "outputId": "cfb6bf8e-7df0-4199-beaf-e0dcf97e7fd3"
      },
      "execution_count": 139,
      "outputs": [
        {
          "output_type": "stream",
          "name": "stdout",
          "text": [
            "Enter guess: 1234\n",
            "Attempt 1: BCCX\n",
            "Enter guess: 5123\n",
            "Attempt 2: BBBX\n",
            "Enter guess: 5243\n",
            "Attempt 3: BCCX\n",
            "Enter guess: 5124\n",
            "Congratulations you have guessed it!\n"
          ]
        }
      ]
    },
    {
      "cell_type": "code",
      "source": [
        "bulls_cows_game()"
      ],
      "metadata": {
        "colab": {
          "base_uri": "https://localhost:8080/"
        },
        "id": "mUofBV8RoVHS",
        "outputId": "6a8952f6-c00f-4537-8d7a-ab5264a46b7e"
      },
      "execution_count": 140,
      "outputs": [
        {
          "output_type": "stream",
          "name": "stdout",
          "text": [
            "Enter guess: 1234\n",
            "Attempt 1: CCCX\n",
            "Enter guess: 5123\n",
            "Attempt 2: BCXX\n",
            "Enter guess: 4126\n",
            "Attempt 3: BCCX\n",
            "Enter guess: 4326\n",
            "Attempt 4: BCCX\n",
            "Enter guess: 4163\n",
            "Attempt 5: BBCC\n",
            "Enter guess: 4613\n",
            "Congratulations you have guessed it!\n"
          ]
        }
      ]
    },
    {
      "cell_type": "code",
      "source": [
        "bulls_cows_game()"
      ],
      "metadata": {
        "colab": {
          "base_uri": "https://localhost:8080/"
        },
        "id": "VwJIJ5Olqz9t",
        "outputId": "51b0362d-6170-47cc-ec31-4ac9ff32ce59"
      },
      "execution_count": 141,
      "outputs": [
        {
          "output_type": "stream",
          "name": "stdout",
          "text": [
            "Enter guess: 1234\n",
            "Attempt 1: BCCX\n",
            "Enter guess: 5123\n",
            "Attempt 2: CCXX\n",
            "Enter guess: 1462\n",
            "Attempt 3: BCCX\n",
            "Enter guess: 1346\n",
            "Attempt 4: BCCX\n",
            "Enter guess: 2463\n",
            "Attempt 5: BBCC\n",
            "Enter guess: 2436\n",
            "Congratulations you have guessed it!\n"
          ]
        }
      ]
    },
    {
      "cell_type": "code",
      "source": [
        "bulls_cows_game()"
      ],
      "metadata": {
        "colab": {
          "base_uri": "https://localhost:8080/"
        },
        "id": "7UkAvZh3tN_I",
        "outputId": "12551787-ea5d-42a3-bf7c-1c19910b2bfa"
      },
      "execution_count": 142,
      "outputs": [
        {
          "output_type": "stream",
          "name": "stdout",
          "text": [
            "Enter guess: 1234\n",
            "Attempt 1: CCCX\n",
            "Enter guess: 5123\n",
            "Attempt 2: CCCX\n",
            "Enter guess: 6231\n",
            "Attempt 3: BCXX\n",
            "Enter guess: 4351\n",
            "Attempt 4: BCCX\n",
            "Enter guess: 4562\n",
            "Attempt 5: BCCX\n",
            "Enter guess: 4621\n",
            "Attempt 6: BCCX\n",
            "You have no more attempts, but the correct answer was: [2, 5, 4, 1]\n"
          ]
        }
      ]
    },
    {
      "cell_type": "markdown",
      "source": [
        "9. **Reflect**  \n",
        "Think of at least three ways you could change the rules or setup of the game, and in each case describe (in one sentence, you don't need to write code) what you would have to do to modify your code to play the new version of the game.  Use a text box below for each of your ideas."
      ],
      "metadata": {
        "id": "a58-KCX4ELRO"
      }
    },
    {
      "cell_type": "markdown",
      "source": [
        "(1) I would maybe make it easier so the sequence of Bs Cs and Xs were in the same placement as the guess relative to secret code, like Worlde."
      ],
      "metadata": {
        "id": "Jof2vIZSEfwo"
      }
    },
    {
      "cell_type": "markdown",
      "source": [
        "(2)Another way to change the difficulty of would be to change the high value of range so that it is either < or > 6."
      ],
      "metadata": {
        "id": "f2_QlBavEiqW"
      }
    },
    {
      "cell_type": "markdown",
      "source": [
        "(3)Make it a 2-player game where it hides your opponent's guess when it is your turn, but displays their feedback so you know how they are doing."
      ],
      "metadata": {
        "id": "sqfq2EFpEjZt"
      }
    }
  ],
  "metadata": {
    "colab": {
      "provenance": [],
      "include_colab_link": true
    },
    "kernelspec": {
      "display_name": "Python 3",
      "name": "python3"
    },
    "language_info": {
      "name": "python"
    }
  },
  "nbformat": 4,
  "nbformat_minor": 0
}